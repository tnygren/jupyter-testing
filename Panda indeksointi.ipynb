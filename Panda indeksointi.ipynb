{
 "cells": [
  {
   "cell_type": "code",
   "execution_count": 1,
   "metadata": {
    "collapsed": false
   },
   "outputs": [],
   "source": [
    "from pandas import *\n",
    "import pandas as pd\n",
    "import matplotlib.pyplot as plt\n",
    "import numpy as np\n",
    "plt.style.use('ggplot')\n",
    "%matplotlib inline"
   ]
  },
  {
   "cell_type": "markdown",
   "metadata": {},
   "source": [
    "## Multi index"
   ]
  },
  {
   "cell_type": "code",
   "execution_count": 2,
   "metadata": {
    "collapsed": true
   },
   "outputs": [
    {
     "data": {
      "text/html": [
       "<div>\n",
       "<table border=\"1\" class=\"dataframe\">\n",
       "  <thead>\n",
       "    <tr style=\"text-align: right;\">\n",
       "      <th></th>\n",
       "      <th></th>\n",
       "      <th>a</th>\n",
       "      <th>b</th>\n",
       "    </tr>\n",
       "    <tr>\n",
       "      <th>first</th>\n",
       "      <th>second</th>\n",
       "      <th></th>\n",
       "      <th></th>\n",
       "    </tr>\n",
       "  </thead>\n",
       "  <tbody>\n",
       "    <tr>\n",
       "      <th rowspan=\"2\" valign=\"top\">bar</th>\n",
       "      <th>one</th>\n",
       "      <td>-0.873752</td>\n",
       "      <td>-1.557177</td>\n",
       "    </tr>\n",
       "    <tr>\n",
       "      <th>two</th>\n",
       "      <td>-1.815243</td>\n",
       "      <td>0.094606</td>\n",
       "    </tr>\n",
       "    <tr>\n",
       "      <th rowspan=\"2\" valign=\"top\">baz</th>\n",
       "      <th>one</th>\n",
       "      <td>-1.028162</td>\n",
       "      <td>-1.380382</td>\n",
       "    </tr>\n",
       "    <tr>\n",
       "      <th>two</th>\n",
       "      <td>1.067999</td>\n",
       "      <td>-0.318355</td>\n",
       "    </tr>\n",
       "    <tr>\n",
       "      <th rowspan=\"2\" valign=\"top\">foo</th>\n",
       "      <th>one</th>\n",
       "      <td>0.343215</td>\n",
       "      <td>1.285076</td>\n",
       "    </tr>\n",
       "    <tr>\n",
       "      <th>two</th>\n",
       "      <td>0.130400</td>\n",
       "      <td>0.905692</td>\n",
       "    </tr>\n",
       "    <tr>\n",
       "      <th rowspan=\"2\" valign=\"top\">qux</th>\n",
       "      <th>one</th>\n",
       "      <td>0.751137</td>\n",
       "      <td>1.197016</td>\n",
       "    </tr>\n",
       "    <tr>\n",
       "      <th>two</th>\n",
       "      <td>0.444575</td>\n",
       "      <td>1.249465</td>\n",
       "    </tr>\n",
       "  </tbody>\n",
       "</table>\n",
       "</div>"
      ],
      "text/plain": [
       "                     a         b\n",
       "first second                    \n",
       "bar   one    -0.873752 -1.557177\n",
       "      two    -1.815243  0.094606\n",
       "baz   one    -1.028162 -1.380382\n",
       "      two     1.067999 -0.318355\n",
       "foo   one     0.343215  1.285076\n",
       "      two     0.130400  0.905692\n",
       "qux   one     0.751137  1.197016\n",
       "      two     0.444575  1.249465"
      ]
     },
     "execution_count": 2,
     "metadata": {},
     "output_type": "execute_result"
    }
   ],
   "source": [
    "#Testi dataframe\n",
    "arrays = [['bar', 'bar', 'baz', 'baz', 'foo', 'foo', 'qux', 'qux'],\n",
    "          ['one', 'two', 'one', 'two', 'one', 'two', 'one', 'two']]\n",
    "tuples = zip(*arrays)\n",
    "index = pd.MultiIndex.from_tuples(tuples, names=['first','second'])\n",
    "s = pd.DataFrame(np.random.randn(8,2),index=index,columns=['a','b'])\n",
    "\n",
    "#s.index.set_levels([[u'cat', u'dog', u'foo', u'qux'], \n",
    "#                       [u'one', u'two']], inplace=True)\n",
    "s"
   ]
  },
  {
   "cell_type": "code",
   "execution_count": 3,
   "metadata": {
    "collapsed": true
   },
   "outputs": [
    {
     "data": {
      "text/plain": [
       "a    float64\n",
       "b    float64\n",
       "dtype: object"
      ]
     },
     "execution_count": 3,
     "metadata": {},
     "output_type": "execute_result"
    }
   ],
   "source": [
    "s.dtypes"
   ]
  },
  {
   "cell_type": "code",
   "execution_count": 4,
   "metadata": {
    "collapsed": true
   },
   "outputs": [
    {
     "data": {
      "text/html": [
       "<div>\n",
       "<table border=\"1\" class=\"dataframe\">\n",
       "  <thead>\n",
       "    <tr style=\"text-align: right;\">\n",
       "      <th></th>\n",
       "      <th>a</th>\n",
       "      <th>b</th>\n",
       "    </tr>\n",
       "    <tr>\n",
       "      <th>second</th>\n",
       "      <th></th>\n",
       "      <th></th>\n",
       "    </tr>\n",
       "  </thead>\n",
       "  <tbody>\n",
       "    <tr>\n",
       "      <th>one</th>\n",
       "      <td>-0.873752</td>\n",
       "      <td>-1.557177</td>\n",
       "    </tr>\n",
       "    <tr>\n",
       "      <th>two</th>\n",
       "      <td>-1.815243</td>\n",
       "      <td>0.094606</td>\n",
       "    </tr>\n",
       "  </tbody>\n",
       "</table>\n",
       "</div>"
      ],
      "text/plain": [
       "               a         b\n",
       "second                    \n",
       "one    -0.873752 -1.557177\n",
       "two    -1.815243  0.094606"
      ]
     },
     "execution_count": 4,
     "metadata": {},
     "output_type": "execute_result"
    }
   ],
   "source": [
    "s.loc['bar']"
   ]
  },
  {
   "cell_type": "code",
   "execution_count": 5,
   "metadata": {
    "collapsed": true
   },
   "outputs": [
    {
     "data": {
      "text/plain": [
       "a    0.130400\n",
       "b    0.905692\n",
       "Name: (foo, two), dtype: float64"
      ]
     },
     "execution_count": 5,
     "metadata": {},
     "output_type": "execute_result"
    }
   ],
   "source": [
    "s.loc['foo', 'two']"
   ]
  },
  {
   "cell_type": "code",
   "execution_count": 6,
   "metadata": {
    "collapsed": true
   },
   "outputs": [
    {
     "data": {
      "text/html": [
       "<div>\n",
       "<table border=\"1\" class=\"dataframe\">\n",
       "  <thead>\n",
       "    <tr style=\"text-align: right;\">\n",
       "      <th></th>\n",
       "      <th></th>\n",
       "      <th>a</th>\n",
       "      <th>b</th>\n",
       "    </tr>\n",
       "    <tr>\n",
       "      <th>first</th>\n",
       "      <th>second</th>\n",
       "      <th></th>\n",
       "      <th></th>\n",
       "    </tr>\n",
       "  </thead>\n",
       "  <tbody>\n",
       "    <tr>\n",
       "      <th rowspan=\"2\" valign=\"top\">bar</th>\n",
       "      <th>one</th>\n",
       "      <td>-0.873752</td>\n",
       "      <td>-1.557177</td>\n",
       "    </tr>\n",
       "    <tr>\n",
       "      <th>two</th>\n",
       "      <td>-1.815243</td>\n",
       "      <td>0.094606</td>\n",
       "    </tr>\n",
       "    <tr>\n",
       "      <th rowspan=\"2\" valign=\"top\">baz</th>\n",
       "      <th>one</th>\n",
       "      <td>-1.028162</td>\n",
       "      <td>-1.380382</td>\n",
       "    </tr>\n",
       "    <tr>\n",
       "      <th>two</th>\n",
       "      <td>1.067999</td>\n",
       "      <td>-0.318355</td>\n",
       "    </tr>\n",
       "    <tr>\n",
       "      <th rowspan=\"2\" valign=\"top\">foo</th>\n",
       "      <th>one</th>\n",
       "      <td>0.343215</td>\n",
       "      <td>1.285076</td>\n",
       "    </tr>\n",
       "    <tr>\n",
       "      <th>two</th>\n",
       "      <td>0.130400</td>\n",
       "      <td>0.905692</td>\n",
       "    </tr>\n",
       "  </tbody>\n",
       "</table>\n",
       "</div>"
      ],
      "text/plain": [
       "                     a         b\n",
       "first second                    \n",
       "bar   one    -0.873752 -1.557177\n",
       "      two    -1.815243  0.094606\n",
       "baz   one    -1.028162 -1.380382\n",
       "      two     1.067999 -0.318355\n",
       "foo   one     0.343215  1.285076\n",
       "      two     0.130400  0.905692"
      ]
     },
     "execution_count": 6,
     "metadata": {},
     "output_type": "execute_result"
    }
   ],
   "source": [
    "s.loc['bar':'foo']"
   ]
  },
  {
   "cell_type": "markdown",
   "metadata": {},
   "source": [
    "## Multi index with datetime"
   ]
  },
  {
   "cell_type": "code",
   "execution_count": 7,
   "metadata": {
    "collapsed": true
   },
   "outputs": [
    {
     "data": {
      "text/html": [
       "<div>\n",
       "<table border=\"1\" class=\"dataframe\">\n",
       "  <thead>\n",
       "    <tr style=\"text-align: right;\">\n",
       "      <th></th>\n",
       "      <th></th>\n",
       "      <th>a</th>\n",
       "      <th>b</th>\n",
       "    </tr>\n",
       "    <tr>\n",
       "      <th>Date</th>\n",
       "      <th>time</th>\n",
       "      <th></th>\n",
       "      <th></th>\n",
       "    </tr>\n",
       "  </thead>\n",
       "  <tbody>\n",
       "    <tr>\n",
       "      <th rowspan=\"2\" valign=\"top\">01-12-2015</th>\n",
       "      <th>01:00</th>\n",
       "      <td>2.523864</td>\n",
       "      <td>-1.888065</td>\n",
       "    </tr>\n",
       "    <tr>\n",
       "      <th>02:00</th>\n",
       "      <td>1.206134</td>\n",
       "      <td>1.557476</td>\n",
       "    </tr>\n",
       "    <tr>\n",
       "      <th rowspan=\"2\" valign=\"top\">02-12-2015</th>\n",
       "      <th>01:00</th>\n",
       "      <td>0.203768</td>\n",
       "      <td>0.274463</td>\n",
       "    </tr>\n",
       "    <tr>\n",
       "      <th>02:00</th>\n",
       "      <td>1.152810</td>\n",
       "      <td>-0.007944</td>\n",
       "    </tr>\n",
       "    <tr>\n",
       "      <th rowspan=\"2\" valign=\"top\">03-12-2015</th>\n",
       "      <th>01:00</th>\n",
       "      <td>0.386274</td>\n",
       "      <td>-0.099156</td>\n",
       "    </tr>\n",
       "    <tr>\n",
       "      <th>02:00</th>\n",
       "      <td>-0.608334</td>\n",
       "      <td>-0.737396</td>\n",
       "    </tr>\n",
       "    <tr>\n",
       "      <th rowspan=\"2\" valign=\"top\">04-12-2015</th>\n",
       "      <th>01:00</th>\n",
       "      <td>-1.350613</td>\n",
       "      <td>0.914886</td>\n",
       "    </tr>\n",
       "    <tr>\n",
       "      <th>02:00</th>\n",
       "      <td>1.305901</td>\n",
       "      <td>1.602406</td>\n",
       "    </tr>\n",
       "  </tbody>\n",
       "</table>\n",
       "</div>"
      ],
      "text/plain": [
       "                         a         b\n",
       "Date       time                     \n",
       "01-12-2015 01:00  2.523864 -1.888065\n",
       "           02:00  1.206134  1.557476\n",
       "02-12-2015 01:00  0.203768  0.274463\n",
       "           02:00  1.152810 -0.007944\n",
       "03-12-2015 01:00  0.386274 -0.099156\n",
       "           02:00 -0.608334 -0.737396\n",
       "04-12-2015 01:00 -1.350613  0.914886\n",
       "           02:00  1.305901  1.602406"
      ]
     },
     "execution_count": 7,
     "metadata": {},
     "output_type": "execute_result"
    }
   ],
   "source": [
    "#Testi dataframe\n",
    "arrays = [['01-12-2015', '01-12-2015', '02-12-2015', '02-12-2015', '03-12-2015', '03-12-2015', '04-12-2015', '04-12-2015'],\n",
    "          ['01:00', '02:00', '01:00', '02:00', '01:00', '02:00', '01:00', '02:00']]\n",
    "tuples = zip(*arrays)\n",
    "index = pd.MultiIndex.from_tuples(tuples, names=['Date','time'])\n",
    "s = pd.DataFrame(np.random.randn(8,2),index=index,columns=['a','b'])\n",
    "\n",
    "#s.index.set_levels([[u'cat', u'dog', u'foo', u'qux'], \n",
    "#                       [u'one', u'two']], inplace=True)\n",
    "s"
   ]
  },
  {
   "cell_type": "code",
   "execution_count": 8,
   "metadata": {
    "collapsed": true
   },
   "outputs": [
    {
     "data": {
      "text/plain": [
       "a    float64\n",
       "b    float64\n",
       "dtype: object"
      ]
     },
     "execution_count": 8,
     "metadata": {},
     "output_type": "execute_result"
    }
   ],
   "source": [
    "s.dtypes"
   ]
  },
  {
   "cell_type": "code",
   "execution_count": 9,
   "metadata": {
    "collapsed": true
   },
   "outputs": [
    {
     "data": {
      "text/html": [
       "<div>\n",
       "<table border=\"1\" class=\"dataframe\">\n",
       "  <thead>\n",
       "    <tr style=\"text-align: right;\">\n",
       "      <th></th>\n",
       "      <th>a</th>\n",
       "      <th>b</th>\n",
       "    </tr>\n",
       "    <tr>\n",
       "      <th>time</th>\n",
       "      <th></th>\n",
       "      <th></th>\n",
       "    </tr>\n",
       "  </thead>\n",
       "  <tbody>\n",
       "    <tr>\n",
       "      <th>01:00</th>\n",
       "      <td>2.523864</td>\n",
       "      <td>-1.888065</td>\n",
       "    </tr>\n",
       "    <tr>\n",
       "      <th>02:00</th>\n",
       "      <td>1.206134</td>\n",
       "      <td>1.557476</td>\n",
       "    </tr>\n",
       "  </tbody>\n",
       "</table>\n",
       "</div>"
      ],
      "text/plain": [
       "              a         b\n",
       "time                     \n",
       "01:00  2.523864 -1.888065\n",
       "02:00  1.206134  1.557476"
      ]
     },
     "execution_count": 9,
     "metadata": {},
     "output_type": "execute_result"
    }
   ],
   "source": [
    "s.loc['01-12-2015']"
   ]
  },
  {
   "cell_type": "code",
   "execution_count": 10,
   "metadata": {
    "collapsed": true
   },
   "outputs": [
    {
     "data": {
      "text/plain": [
       "a    2.523864\n",
       "b   -1.888065\n",
       "Name: (01-12-2015, 01:00), dtype: float64"
      ]
     },
     "execution_count": 10,
     "metadata": {},
     "output_type": "execute_result"
    }
   ],
   "source": [
    "s.loc['01-12-2015', '01:00']"
   ]
  },
  {
   "cell_type": "code",
   "execution_count": 11,
   "metadata": {
    "collapsed": true
   },
   "outputs": [
    {
     "data": {
      "text/html": [
       "<div>\n",
       "<table border=\"1\" class=\"dataframe\">\n",
       "  <thead>\n",
       "    <tr style=\"text-align: right;\">\n",
       "      <th></th>\n",
       "      <th></th>\n",
       "      <th>a</th>\n",
       "      <th>b</th>\n",
       "    </tr>\n",
       "    <tr>\n",
       "      <th>Date</th>\n",
       "      <th>time</th>\n",
       "      <th></th>\n",
       "      <th></th>\n",
       "    </tr>\n",
       "  </thead>\n",
       "  <tbody>\n",
       "    <tr>\n",
       "      <th rowspan=\"2\" valign=\"top\">01-12-2015</th>\n",
       "      <th>01:00</th>\n",
       "      <td>2.523864</td>\n",
       "      <td>-1.888065</td>\n",
       "    </tr>\n",
       "    <tr>\n",
       "      <th>02:00</th>\n",
       "      <td>1.206134</td>\n",
       "      <td>1.557476</td>\n",
       "    </tr>\n",
       "    <tr>\n",
       "      <th rowspan=\"2\" valign=\"top\">02-12-2015</th>\n",
       "      <th>01:00</th>\n",
       "      <td>0.203768</td>\n",
       "      <td>0.274463</td>\n",
       "    </tr>\n",
       "    <tr>\n",
       "      <th>02:00</th>\n",
       "      <td>1.152810</td>\n",
       "      <td>-0.007944</td>\n",
       "    </tr>\n",
       "  </tbody>\n",
       "</table>\n",
       "</div>"
      ],
      "text/plain": [
       "                         a         b\n",
       "Date       time                     \n",
       "01-12-2015 01:00  2.523864 -1.888065\n",
       "           02:00  1.206134  1.557476\n",
       "02-12-2015 01:00  0.203768  0.274463\n",
       "           02:00  1.152810 -0.007944"
      ]
     },
     "execution_count": 11,
     "metadata": {},
     "output_type": "execute_result"
    }
   ],
   "source": [
    "s.loc['01-12-2015':'02-12-2015']"
   ]
  },
  {
   "cell_type": "code",
   "execution_count": 12,
   "metadata": {
    "collapsed": true
   },
   "outputs": [],
   "source": [
    "s.to_csv('../data/indeksointiTesti.cvs')"
   ]
  },
  {
   "cell_type": "markdown",
   "metadata": {},
   "source": [
    "## Multi index with datetime and from cvs"
   ]
  },
  {
   "cell_type": "code",
   "execution_count": 13,
   "metadata": {
    "collapsed": true
   },
   "outputs": [
    {
     "data": {
      "text/html": [
       "<div>\n",
       "<table border=\"1\" class=\"dataframe\">\n",
       "  <thead>\n",
       "    <tr style=\"text-align: right;\">\n",
       "      <th></th>\n",
       "      <th></th>\n",
       "      <th>a</th>\n",
       "      <th>b</th>\n",
       "    </tr>\n",
       "    <tr>\n",
       "      <th>Date</th>\n",
       "      <th>time</th>\n",
       "      <th></th>\n",
       "      <th></th>\n",
       "    </tr>\n",
       "  </thead>\n",
       "  <tbody>\n",
       "    <tr>\n",
       "      <th rowspan=\"2\" valign=\"top\">01-12-2015</th>\n",
       "      <th>01:00</th>\n",
       "      <td>2.523864</td>\n",
       "      <td>-1.888065</td>\n",
       "    </tr>\n",
       "    <tr>\n",
       "      <th>02:00</th>\n",
       "      <td>1.206134</td>\n",
       "      <td>1.557476</td>\n",
       "    </tr>\n",
       "    <tr>\n",
       "      <th rowspan=\"2\" valign=\"top\">02-12-2015</th>\n",
       "      <th>01:00</th>\n",
       "      <td>0.203768</td>\n",
       "      <td>0.274463</td>\n",
       "    </tr>\n",
       "    <tr>\n",
       "      <th>02:00</th>\n",
       "      <td>1.152810</td>\n",
       "      <td>-0.007944</td>\n",
       "    </tr>\n",
       "    <tr>\n",
       "      <th rowspan=\"2\" valign=\"top\">03-12-2015</th>\n",
       "      <th>01:00</th>\n",
       "      <td>0.386274</td>\n",
       "      <td>-0.099156</td>\n",
       "    </tr>\n",
       "    <tr>\n",
       "      <th>02:00</th>\n",
       "      <td>-0.608334</td>\n",
       "      <td>-0.737396</td>\n",
       "    </tr>\n",
       "    <tr>\n",
       "      <th rowspan=\"2\" valign=\"top\">04-12-2015</th>\n",
       "      <th>01:00</th>\n",
       "      <td>-1.350613</td>\n",
       "      <td>0.914886</td>\n",
       "    </tr>\n",
       "    <tr>\n",
       "      <th>02:00</th>\n",
       "      <td>1.305901</td>\n",
       "      <td>1.602406</td>\n",
       "    </tr>\n",
       "  </tbody>\n",
       "</table>\n",
       "</div>"
      ],
      "text/plain": [
       "                         a         b\n",
       "Date       time                     \n",
       "01-12-2015 01:00  2.523864 -1.888065\n",
       "           02:00  1.206134  1.557476\n",
       "02-12-2015 01:00  0.203768  0.274463\n",
       "           02:00  1.152810 -0.007944\n",
       "03-12-2015 01:00  0.386274 -0.099156\n",
       "           02:00 -0.608334 -0.737396\n",
       "04-12-2015 01:00 -1.350613  0.914886\n",
       "           02:00  1.305901  1.602406"
      ]
     },
     "execution_count": 13,
     "metadata": {},
     "output_type": "execute_result"
    }
   ],
   "source": [
    "df = read_csv('../data/indeksointiTesti.cvs', header=0)\n",
    "idf = df.set_index(['Date','time'])\n",
    "idf"
   ]
  },
  {
   "cell_type": "code",
   "execution_count": 14,
   "metadata": {
    "collapsed": true
   },
   "outputs": [
    {
     "data": {
      "text/plain": [
       "a    float64\n",
       "b    float64\n",
       "dtype: object"
      ]
     },
     "execution_count": 14,
     "metadata": {},
     "output_type": "execute_result"
    }
   ],
   "source": [
    "idf.dtypes"
   ]
  },
  {
   "cell_type": "code",
   "execution_count": 15,
   "metadata": {
    "collapsed": true
   },
   "outputs": [
    {
     "data": {
      "text/plain": [
       "dtype('O')"
      ]
     },
     "execution_count": 15,
     "metadata": {},
     "output_type": "execute_result"
    }
   ],
   "source": [
    "idf.index.dtype"
   ]
  },
  {
   "cell_type": "code",
   "execution_count": 16,
   "metadata": {
    "collapsed": true
   },
   "outputs": [
    {
     "data": {
      "text/html": [
       "<div>\n",
       "<table border=\"1\" class=\"dataframe\">\n",
       "  <thead>\n",
       "    <tr style=\"text-align: right;\">\n",
       "      <th></th>\n",
       "      <th>a</th>\n",
       "      <th>b</th>\n",
       "    </tr>\n",
       "    <tr>\n",
       "      <th>time</th>\n",
       "      <th></th>\n",
       "      <th></th>\n",
       "    </tr>\n",
       "  </thead>\n",
       "  <tbody>\n",
       "    <tr>\n",
       "      <th>01:00</th>\n",
       "      <td>2.523864</td>\n",
       "      <td>-1.888065</td>\n",
       "    </tr>\n",
       "    <tr>\n",
       "      <th>02:00</th>\n",
       "      <td>1.206134</td>\n",
       "      <td>1.557476</td>\n",
       "    </tr>\n",
       "  </tbody>\n",
       "</table>\n",
       "</div>"
      ],
      "text/plain": [
       "              a         b\n",
       "time                     \n",
       "01:00  2.523864 -1.888065\n",
       "02:00  1.206134  1.557476"
      ]
     },
     "execution_count": 16,
     "metadata": {},
     "output_type": "execute_result"
    }
   ],
   "source": [
    "idf.loc['01-12-2015']"
   ]
  },
  {
   "cell_type": "code",
   "execution_count": 17,
   "metadata": {
    "collapsed": true
   },
   "outputs": [
    {
     "data": {
      "text/plain": [
       "a    2.523864\n",
       "b   -1.888065\n",
       "Name: (01-12-2015, 01:00), dtype: float64"
      ]
     },
     "execution_count": 17,
     "metadata": {},
     "output_type": "execute_result"
    }
   ],
   "source": [
    "idf.loc['01-12-2015', '01:00']"
   ]
  },
  {
   "cell_type": "code",
   "execution_count": 18,
   "metadata": {
    "collapsed": true
   },
   "outputs": [
    {
     "data": {
      "text/html": [
       "<div>\n",
       "<table border=\"1\" class=\"dataframe\">\n",
       "  <thead>\n",
       "    <tr style=\"text-align: right;\">\n",
       "      <th></th>\n",
       "      <th></th>\n",
       "      <th>a</th>\n",
       "      <th>b</th>\n",
       "    </tr>\n",
       "    <tr>\n",
       "      <th>Date</th>\n",
       "      <th>time</th>\n",
       "      <th></th>\n",
       "      <th></th>\n",
       "    </tr>\n",
       "  </thead>\n",
       "  <tbody>\n",
       "    <tr>\n",
       "      <th rowspan=\"2\" valign=\"top\">01-12-2015</th>\n",
       "      <th>01:00</th>\n",
       "      <td>2.523864</td>\n",
       "      <td>-1.888065</td>\n",
       "    </tr>\n",
       "    <tr>\n",
       "      <th>02:00</th>\n",
       "      <td>1.206134</td>\n",
       "      <td>1.557476</td>\n",
       "    </tr>\n",
       "    <tr>\n",
       "      <th rowspan=\"2\" valign=\"top\">02-12-2015</th>\n",
       "      <th>01:00</th>\n",
       "      <td>0.203768</td>\n",
       "      <td>0.274463</td>\n",
       "    </tr>\n",
       "    <tr>\n",
       "      <th>02:00</th>\n",
       "      <td>1.152810</td>\n",
       "      <td>-0.007944</td>\n",
       "    </tr>\n",
       "  </tbody>\n",
       "</table>\n",
       "</div>"
      ],
      "text/plain": [
       "                         a         b\n",
       "Date       time                     \n",
       "01-12-2015 01:00  2.523864 -1.888065\n",
       "           02:00  1.206134  1.557476\n",
       "02-12-2015 01:00  0.203768  0.274463\n",
       "           02:00  1.152810 -0.007944"
      ]
     },
     "execution_count": 18,
     "metadata": {},
     "output_type": "execute_result"
    }
   ],
   "source": [
    "idf.loc['01-12-2015':'02-12-2015']"
   ]
  },
  {
   "cell_type": "code",
   "execution_count": 19,
   "metadata": {
    "collapsed": true
   },
   "outputs": [
    {
     "data": {
      "text/plain": [
       "Date        time \n",
       "01-12-2015  01:00    2.523864\n",
       "            02:00    1.206134\n",
       "02-12-2015  01:00    0.203768\n",
       "            02:00    1.152810\n",
       "03-12-2015  01:00    0.386274\n",
       "            02:00   -0.608334\n",
       "04-12-2015  01:00   -1.350613\n",
       "            02:00    1.305901\n",
       "Name: a, dtype: float64"
      ]
     },
     "execution_count": 19,
     "metadata": {},
     "output_type": "execute_result"
    }
   ],
   "source": [
    "idf['a']"
   ]
  },
  {
   "cell_type": "code",
   "execution_count": 20,
   "metadata": {
    "collapsed": true
   },
   "outputs": [
    {
     "data": {
      "text/plain": [
       "Date        time \n",
       "01-12-2015  01:00    2.523864\n",
       "            02:00    1.206134\n",
       "02-12-2015  01:00    0.203768\n",
       "            02:00    1.152810\n",
       "03-12-2015  01:00    0.386274\n",
       "            02:00   -0.608334\n",
       "04-12-2015  01:00   -1.350613\n",
       "            02:00    1.305901\n",
       "Name: a, dtype: float64"
      ]
     },
     "execution_count": 20,
     "metadata": {},
     "output_type": "execute_result"
    }
   ],
   "source": [
    "idf.a"
   ]
  },
  {
   "cell_type": "code",
   "execution_count": 21,
   "metadata": {
    "collapsed": true
   },
   "outputs": [
    {
     "data": {
      "text/html": [
       "<div>\n",
       "<table border=\"1\" class=\"dataframe\">\n",
       "  <thead>\n",
       "    <tr style=\"text-align: right;\">\n",
       "      <th></th>\n",
       "      <th></th>\n",
       "      <th>a</th>\n",
       "      <th>b</th>\n",
       "    </tr>\n",
       "    <tr>\n",
       "      <th>Date</th>\n",
       "      <th>time</th>\n",
       "      <th></th>\n",
       "      <th></th>\n",
       "    </tr>\n",
       "  </thead>\n",
       "  <tbody>\n",
       "    <tr>\n",
       "      <th rowspan=\"2\" valign=\"top\">01-12-2015</th>\n",
       "      <th>01:00</th>\n",
       "      <td>2.523864</td>\n",
       "      <td>-1.888065</td>\n",
       "    </tr>\n",
       "    <tr>\n",
       "      <th>02:00</th>\n",
       "      <td>1.206134</td>\n",
       "      <td>1.557476</td>\n",
       "    </tr>\n",
       "    <tr>\n",
       "      <th rowspan=\"2\" valign=\"top\">02-12-2015</th>\n",
       "      <th>01:00</th>\n",
       "      <td>0.203768</td>\n",
       "      <td>0.274463</td>\n",
       "    </tr>\n",
       "    <tr>\n",
       "      <th>02:00</th>\n",
       "      <td>1.152810</td>\n",
       "      <td>-0.007944</td>\n",
       "    </tr>\n",
       "    <tr>\n",
       "      <th rowspan=\"2\" valign=\"top\">03-12-2015</th>\n",
       "      <th>01:00</th>\n",
       "      <td>0.386274</td>\n",
       "      <td>-0.099156</td>\n",
       "    </tr>\n",
       "    <tr>\n",
       "      <th>02:00</th>\n",
       "      <td>-0.608334</td>\n",
       "      <td>-0.737396</td>\n",
       "    </tr>\n",
       "    <tr>\n",
       "      <th rowspan=\"2\" valign=\"top\">04-12-2015</th>\n",
       "      <th>01:00</th>\n",
       "      <td>-1.350613</td>\n",
       "      <td>0.914886</td>\n",
       "    </tr>\n",
       "    <tr>\n",
       "      <th>02:00</th>\n",
       "      <td>1.305901</td>\n",
       "      <td>1.602406</td>\n",
       "    </tr>\n",
       "  </tbody>\n",
       "</table>\n",
       "</div>"
      ],
      "text/plain": [
       "                         a         b\n",
       "Date       time                     \n",
       "01-12-2015 01:00  2.523864 -1.888065\n",
       "           02:00  1.206134  1.557476\n",
       "02-12-2015 01:00  0.203768  0.274463\n",
       "           02:00  1.152810 -0.007944\n",
       "03-12-2015 01:00  0.386274 -0.099156\n",
       "           02:00 -0.608334 -0.737396\n",
       "04-12-2015 01:00 -1.350613  0.914886\n",
       "           02:00  1.305901  1.602406"
      ]
     },
     "execution_count": 21,
     "metadata": {},
     "output_type": "execute_result"
    }
   ],
   "source": [
    "idf[['a','b']]"
   ]
  },
  {
   "cell_type": "code",
   "execution_count": 22,
   "metadata": {
    "collapsed": true
   },
   "outputs": [
    {
     "data": {
      "text/plain": [
       "Index([u'01-12-2015', u'02-12-2015', u'03-12-2015', u'04-12-2015'], dtype='object', name=u'Date')"
      ]
     },
     "execution_count": 22,
     "metadata": {},
     "output_type": "execute_result"
    }
   ],
   "source": [
    "#idf = idf.sortlevel(level=0, sort_remaining=True)\n",
    "idf.index.levels[0]"
   ]
  },
  {
   "cell_type": "code",
   "execution_count": 23,
   "metadata": {
    "collapsed": true
   },
   "outputs": [
    {
     "data": {
      "text/html": [
       "<div>\n",
       "<table border=\"1\" class=\"dataframe\">\n",
       "  <thead>\n",
       "    <tr style=\"text-align: right;\">\n",
       "      <th></th>\n",
       "      <th></th>\n",
       "      <th>a</th>\n",
       "      <th>b</th>\n",
       "    </tr>\n",
       "    <tr>\n",
       "      <th>Date</th>\n",
       "      <th>time</th>\n",
       "      <th></th>\n",
       "      <th></th>\n",
       "    </tr>\n",
       "  </thead>\n",
       "  <tbody>\n",
       "    <tr>\n",
       "      <th rowspan=\"2\" valign=\"top\">01-12-2015</th>\n",
       "      <th>01:00</th>\n",
       "      <td>2.523864</td>\n",
       "      <td>-1.888065</td>\n",
       "    </tr>\n",
       "    <tr>\n",
       "      <th>02:00</th>\n",
       "      <td>1.206134</td>\n",
       "      <td>1.557476</td>\n",
       "    </tr>\n",
       "  </tbody>\n",
       "</table>\n",
       "</div>"
      ],
      "text/plain": [
       "                         a         b\n",
       "Date       time                     \n",
       "01-12-2015 01:00  2.523864 -1.888065\n",
       "           02:00  1.206134  1.557476"
      ]
     },
     "execution_count": 23,
     "metadata": {},
     "output_type": "execute_result"
    }
   ],
   "source": [
    "idf[:2]"
   ]
  },
  {
   "cell_type": "code",
   "execution_count": 24,
   "metadata": {
    "collapsed": true
   },
   "outputs": [
    {
     "data": {
      "text/html": [
       "<div>\n",
       "<table border=\"1\" class=\"dataframe\">\n",
       "  <thead>\n",
       "    <tr style=\"text-align: right;\">\n",
       "      <th></th>\n",
       "      <th></th>\n",
       "      <th>a</th>\n",
       "      <th>b</th>\n",
       "    </tr>\n",
       "    <tr>\n",
       "      <th>Date</th>\n",
       "      <th>time</th>\n",
       "      <th></th>\n",
       "      <th></th>\n",
       "    </tr>\n",
       "  </thead>\n",
       "  <tbody>\n",
       "    <tr>\n",
       "      <th rowspan=\"2\" valign=\"top\">03-12-2015</th>\n",
       "      <th>01:00</th>\n",
       "      <td>0.386274</td>\n",
       "      <td>-0.099156</td>\n",
       "    </tr>\n",
       "    <tr>\n",
       "      <th>02:00</th>\n",
       "      <td>-0.608334</td>\n",
       "      <td>-0.737396</td>\n",
       "    </tr>\n",
       "    <tr>\n",
       "      <th rowspan=\"2\" valign=\"top\">04-12-2015</th>\n",
       "      <th>01:00</th>\n",
       "      <td>-1.350613</td>\n",
       "      <td>0.914886</td>\n",
       "    </tr>\n",
       "    <tr>\n",
       "      <th>02:00</th>\n",
       "      <td>1.305901</td>\n",
       "      <td>1.602406</td>\n",
       "    </tr>\n",
       "  </tbody>\n",
       "</table>\n",
       "</div>"
      ],
      "text/plain": [
       "                         a         b\n",
       "Date       time                     \n",
       "03-12-2015 01:00  0.386274 -0.099156\n",
       "           02:00 -0.608334 -0.737396\n",
       "04-12-2015 01:00 -1.350613  0.914886\n",
       "           02:00  1.305901  1.602406"
      ]
     },
     "execution_count": 24,
     "metadata": {},
     "output_type": "execute_result"
    }
   ],
   "source": [
    "idf[4:]"
   ]
  },
  {
   "cell_type": "code",
   "execution_count": null,
   "metadata": {
    "collapsed": true
   },
   "outputs": [
    {
     "data": {
      "text/plain": [
       "4.8198044452269997"
      ]
     },
     "execution_count": 25,
     "metadata": {},
     "output_type": "execute_result"
    }
   ],
   "source": [
    "sum(idf.a)"
   ]
  },
  {
   "cell_type": "markdown",
   "metadata": {},
   "source": [
    "## MultiIndex slicing"
   ]
  },
  {
   "cell_type": "code",
   "execution_count": null,
   "metadata": {
    "collapsed": true
   },
   "outputs": [
    {
     "data": {
      "text/html": [
       "<div>\n",
       "<table border=\"1\" class=\"dataframe\">\n",
       "  <thead>\n",
       "    <tr style=\"text-align: right;\">\n",
       "      <th></th>\n",
       "      <th></th>\n",
       "      <th>PM10 particulate matter (Hourly measured)</th>\n",
       "      <th>status/unit</th>\n",
       "      <th>Modelled Wind Direction</th>\n",
       "      <th>status/unit.1</th>\n",
       "      <th>Modelled Wind Speed</th>\n",
       "      <th>status/unit.2</th>\n",
       "      <th>Modelled Temperature</th>\n",
       "      <th>status/unit.3</th>\n",
       "      <th>Nitric oxide</th>\n",
       "      <th>status/unit.4</th>\n",
       "      <th>Nitrogen dioxide</th>\n",
       "      <th>status/unit.5</th>\n",
       "      <th>Ozone</th>\n",
       "      <th>status/unit.6</th>\n",
       "      <th>PM2.5 particulate matter (Hourly measured)</th>\n",
       "      <th>status/unit.7</th>\n",
       "      <th>Sulphur dioxide</th>\n",
       "      <th>status/unit.8</th>\n",
       "    </tr>\n",
       "    <tr>\n",
       "      <th>Date</th>\n",
       "      <th>time</th>\n",
       "      <th></th>\n",
       "      <th></th>\n",
       "      <th></th>\n",
       "      <th></th>\n",
       "      <th></th>\n",
       "      <th></th>\n",
       "      <th></th>\n",
       "      <th></th>\n",
       "      <th></th>\n",
       "      <th></th>\n",
       "      <th></th>\n",
       "      <th></th>\n",
       "      <th></th>\n",
       "      <th></th>\n",
       "      <th></th>\n",
       "      <th></th>\n",
       "      <th></th>\n",
       "      <th></th>\n",
       "    </tr>\n",
       "  </thead>\n",
       "  <tbody>\n",
       "    <tr>\n",
       "      <th>2015-12-01</th>\n",
       "      <th>01:00</th>\n",
       "      <td>4.0</td>\n",
       "      <td>V ugm-3 (TEOM FDMS)</td>\n",
       "      <td>No data</td>\n",
       "      <td>NaN</td>\n",
       "      <td>No data</td>\n",
       "      <td>NaN</td>\n",
       "      <td>No data</td>\n",
       "      <td>NaN</td>\n",
       "      <td>1.48512</td>\n",
       "      <td>V ugm-3</td>\n",
       "      <td>27.98243</td>\n",
       "      <td>V ugm-3</td>\n",
       "      <td>33.86038</td>\n",
       "      <td>V ugm-3</td>\n",
       "      <td>6.100</td>\n",
       "      <td>V ugm-3 (TEOM FDMS)</td>\n",
       "      <td>1.13266</td>\n",
       "      <td>V ugm-3</td>\n",
       "    </tr>\n",
       "  </tbody>\n",
       "</table>\n",
       "</div>"
      ],
      "text/plain": [
       "                  PM10 particulate matter (Hourly measured)  \\\n",
       "Date       time                                               \n",
       "2015-12-01 01:00                                        4.0   \n",
       "\n",
       "                          status/unit Modelled Wind Direction status/unit.1  \\\n",
       "Date       time                                                               \n",
       "2015-12-01 01:00  V ugm-3 (TEOM FDMS)                 No data           NaN   \n",
       "\n",
       "                 Modelled Wind Speed status/unit.2 Modelled Temperature  \\\n",
       "Date       time                                                           \n",
       "2015-12-01 01:00             No data           NaN              No data   \n",
       "\n",
       "                 status/unit.3  Nitric oxide status/unit.4 Nitrogen dioxide  \\\n",
       "Date       time                                                               \n",
       "2015-12-01 01:00           NaN       1.48512       V ugm-3         27.98243   \n",
       "\n",
       "                 status/unit.5     Ozone status/unit.6  \\\n",
       "Date       time                                          \n",
       "2015-12-01 01:00       V ugm-3  33.86038       V ugm-3   \n",
       "\n",
       "                 PM2.5 particulate matter (Hourly measured)  \\\n",
       "Date       time                                               \n",
       "2015-12-01 01:00                                      6.100   \n",
       "\n",
       "                        status/unit.7 Sulphur dioxide status/unit.8  \n",
       "Date       time                                                      \n",
       "2015-12-01 01:00  V ugm-3 (TEOM FDMS)         1.13266       V ugm-3  "
      ]
     },
     "execution_count": 26,
     "metadata": {},
     "output_type": "execute_result"
    }
   ],
   "source": [
    "#df = read_csv('../data/AQtunti2.csv', header=4)\n",
    "df = read_csv('../data/AirQualityDataHourly.csv', header=4)\n",
    "df['Date'] =  pd.to_datetime(df['Date'], format='%d-%m-%Y')\n",
    "idf = df.set_index(['Date','time'])\n",
    "#idf = idf['PM10 particulate matter (Hourly measured)']\n",
    "#idf = idf[['PM10 particulate matter (Hourly measured)','Nitric oxide']]\n",
    "idf.head(1)"
   ]
  },
  {
   "cell_type": "code",
   "execution_count": null,
   "metadata": {
    "collapsed": true
   },
   "outputs": [
    {
     "data": {
      "text/plain": [
       "DatetimeIndex(['2015-12-01', '2015-12-02', '2015-12-03', '2015-12-04',\n",
       "               '2015-12-05', '2015-12-06', '2015-12-07', '2015-12-08',\n",
       "               '2015-12-09', '2015-12-10',\n",
       "               ...\n",
       "               '2016-04-04', '2016-04-05', '2016-04-06', '2016-04-07',\n",
       "               '2016-04-08', '2016-04-09', '2016-04-10', '2016-04-11',\n",
       "               '2016-04-12', '2016-04-13'],\n",
       "              dtype='datetime64[ns]', name=u'Date', length=135, freq=None)"
      ]
     },
     "execution_count": 27,
     "metadata": {},
     "output_type": "execute_result"
    }
   ],
   "source": [
    "#pd.to_datetime(idf.index.levels[0], format='%d-%m-%Y')\n",
    "#idf.index.levels[0]\n",
    "#idf.sort_index(inplace=True)\n",
    "idf.index.levels[0]\n",
    "#idf"
   ]
  },
  {
   "cell_type": "code",
   "execution_count": null,
   "metadata": {
    "collapsed": false
   },
   "outputs": [],
   "source": [
    "#idf = idf.dropna()\n",
    "idf = idf.sortlevel(level=0, sort_remaining=True)"
   ]
  },
  {
   "cell_type": "code",
   "execution_count": null,
   "metadata": {
    "collapsed": false
   },
   "outputs": [
    {
     "data": {
      "text/plain": [
       "True"
      ]
     },
     "execution_count": 29,
     "metadata": {},
     "output_type": "execute_result"
    }
   ],
   "source": [
    "idf.index.is_lexsorted()"
   ]
  },
  {
   "cell_type": "code",
   "execution_count": null,
   "metadata": {
    "collapsed": false
   },
   "outputs": [
    {
     "data": {
      "text/plain": [
       "2"
      ]
     },
     "execution_count": 30,
     "metadata": {},
     "output_type": "execute_result"
    }
   ],
   "source": [
    "idf.index.lexsort_depth"
   ]
  },
  {
   "cell_type": "code",
   "execution_count": null,
   "metadata": {
    "collapsed": false
   },
   "outputs": [],
   "source": [
    "idf.loc['2015-12-01':'2016-02-29']"
   ]
  },
  {
   "cell_type": "code",
   "execution_count": null,
   "metadata": {
    "collapsed": false
   },
   "outputs": [],
   "source": [
    "idf.loc['2016-03-01':'2016-03-31']"
   ]
  }
 ],
 "metadata": {
  "kernelspec": {
   "display_name": "Python 2",
   "language": "python",
   "name": "python2"
  },
  "language_info": {
   "codemirror_mode": {
    "name": "ipython",
    "version": 2
   },
   "file_extension": ".py",
   "mimetype": "text/x-python",
   "name": "python",
   "nbconvert_exporter": "python",
   "pygments_lexer": "ipython2",
   "version": "2.7.11"
  }
 },
 "nbformat": 4,
 "nbformat_minor": 0
}
