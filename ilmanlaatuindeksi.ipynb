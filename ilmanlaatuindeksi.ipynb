{
 "cells": [
  {
   "cell_type": "code",
   "execution_count": 44,
   "metadata": {
    "collapsed": true
   },
   "outputs": [],
   "source": [
    "from pandas import *\n",
    "import pandas as pd\n",
    "import matplotlib.pyplot as plt\n",
    "import numpy as np\n",
    "plt.style.use('ggplot')\n",
    "%matplotlib inline"
   ]
  },
  {
   "cell_type": "code",
   "execution_count": 2,
   "metadata": {
    "collapsed": true
   },
   "outputs": [],
   "source": [
    "df = read_csv('../data/AirQualityDataHourly.csv', header=4)\n",
    "df['Date'] =  pd.to_datetime(df['Date'], format='%d-%m-%Y')\n",
    "idf = df.set_index(['Date','time'])\n",
    "\n",
    "df2 = read_csv('../data/AirQualityData15Minutes.csv', header=4)\n",
    "df2['Date'] =  pd.to_datetime(df2['Date'], format='%d-%m-%Y')\n",
    "idf2 = df2.set_index(['Date','time'])"
   ]
  },
  {
   "cell_type": "code",
   "execution_count": 35,
   "metadata": {
    "collapsed": false
   },
   "outputs": [
    {
     "name": "stderr",
     "output_type": "stream",
     "text": [
      "/home/vagrant/anaconda2/lib/python2.7/site-packages/ipykernel/__main__.py:2: FutureWarning: convert_objects is deprecated.  Use the data-type specific converters pd.to_datetime, pd.to_timedelta and pd.to_numeric.\n",
      "  from ipykernel import kernelapp as app\n"
     ]
    },
    {
     "data": {
      "text/plain": [
       "0    33.86038\n",
       "1    35.39041\n",
       "2    43.10712\n",
       "3    31.28260\n",
       "4    13.02194\n",
       "Name: Ozone, dtype: float64"
      ]
     },
     "execution_count": 35,
     "metadata": {},
     "output_type": "execute_result"
    }
   ],
   "source": [
    "ozone = df['Ozone']\n",
    "ozone = ozone.convert_objects(convert_numeric=True)\n",
    "bins = [0,34,67,101,121,141,161,188,214,241,2000]\n",
    "group_names = [1,2,3,4,5,6,7,8,9,10]\n",
    "ozone.head()"
   ]
  },
  {
   "cell_type": "code",
   "execution_count": 36,
   "metadata": {
    "collapsed": false
   },
   "outputs": [
    {
     "data": {
      "text/plain": [
       "0    1\n",
       "1    2\n",
       "2    2\n",
       "3    1\n",
       "4    1\n",
       "Name: Ozone, dtype: category\n",
       "Categories (10, int64): [1 < 2 < 3 < 4 ... 7 < 8 < 9 < 10]"
      ]
     },
     "execution_count": 36,
     "metadata": {},
     "output_type": "execute_result"
    }
   ],
   "source": [
    "categories = pd.cut(ozone, bins, labels=group_names)\n",
    "df['categories'] = pd.cut(ozone, bins, labels=group_names)\n",
    "categories.head()"
   ]
  },
  {
   "cell_type": "code",
   "execution_count": 37,
   "metadata": {
    "collapsed": false
   },
   "outputs": [
    {
     "data": {
      "text/plain": [
       "2     1621\n",
       "1     1129\n",
       "3      420\n",
       "10       0\n",
       "9        0\n",
       "8        0\n",
       "7        0\n",
       "6        0\n",
       "5        0\n",
       "4        0\n",
       "dtype: int64"
      ]
     },
     "execution_count": 37,
     "metadata": {},
     "output_type": "execute_result"
    }
   ],
   "source": [
    "pd.value_counts(df['categories'])"
   ]
  },
  {
   "cell_type": "code",
   "execution_count": 38,
   "metadata": {
    "collapsed": false
   },
   "outputs": [
    {
     "data": {
      "text/html": [
       "<div>\n",
       "<table border=\"1\" class=\"dataframe\">\n",
       "  <thead>\n",
       "    <tr style=\"text-align: right;\">\n",
       "      <th></th>\n",
       "      <th>Ozone</th>\n",
       "      <th>categories</th>\n",
       "    </tr>\n",
       "  </thead>\n",
       "  <tbody>\n",
       "    <tr>\n",
       "      <th>0</th>\n",
       "      <td>33.86038</td>\n",
       "      <td>1</td>\n",
       "    </tr>\n",
       "    <tr>\n",
       "      <th>1</th>\n",
       "      <td>35.39041</td>\n",
       "      <td>2</td>\n",
       "    </tr>\n",
       "    <tr>\n",
       "      <th>2</th>\n",
       "      <td>43.10712</td>\n",
       "      <td>2</td>\n",
       "    </tr>\n",
       "    <tr>\n",
       "      <th>3</th>\n",
       "      <td>31.28260</td>\n",
       "      <td>1</td>\n",
       "    </tr>\n",
       "    <tr>\n",
       "      <th>4</th>\n",
       "      <td>13.02194</td>\n",
       "      <td>1</td>\n",
       "    </tr>\n",
       "  </tbody>\n",
       "</table>\n",
       "</div>"
      ],
      "text/plain": [
       "      Ozone categories\n",
       "0  33.86038          1\n",
       "1  35.39041          2\n",
       "2  43.10712          2\n",
       "3  31.28260          1\n",
       "4  13.02194          1"
      ]
     },
     "execution_count": 38,
     "metadata": {},
     "output_type": "execute_result"
    }
   ],
   "source": [
    "df[['Ozone','categories']].head()"
   ]
  },
  {
   "cell_type": "code",
   "execution_count": 46,
   "metadata": {
    "collapsed": false
   },
   "outputs": [
    {
     "data": {
      "text/plain": [
       "<matplotlib.axes._subplots.AxesSubplot at 0x7f4f740bd190>"
      ]
     },
     "execution_count": 46,
     "metadata": {},
     "output_type": "execute_result"
    },
    {
     "data": {
      "image/png": "[encoded data removed]",
      "text/plain": [
       "<matplotlib.figure.Figure at 0x7f4f740cd690>"
      ]
     },
     "metadata": {},
     "output_type": "display_data"
    }
   ],
   "source": [
    "df['categories'].hist(range=[0, 5])"
   ]
  },
  {
   "cell_type": "markdown",
   "metadata": {},
   "source": [
    "# Older testing"
   ]
  },
  {
   "cell_type": "code",
   "execution_count": 7,
   "metadata": {
    "collapsed": false
   },
   "outputs": [
    {
     "data": {
      "text/html": [
       "<div>\n",
       "<table border=\"1\" class=\"dataframe\">\n",
       "  <thead>\n",
       "    <tr style=\"text-align: right;\">\n",
       "      <th></th>\n",
       "      <th></th>\n",
       "      <th>Sulphur dioxide</th>\n",
       "      <th>status/unit</th>\n",
       "    </tr>\n",
       "    <tr>\n",
       "      <th>Date</th>\n",
       "      <th>time</th>\n",
       "      <th></th>\n",
       "      <th></th>\n",
       "    </tr>\n",
       "  </thead>\n",
       "  <tbody>\n",
       "    <tr>\n",
       "      <th rowspan=\"20\" valign=\"top\">2015-12-01</th>\n",
       "      <th>00:15</th>\n",
       "      <td>1.04573</td>\n",
       "      <td>V ugm-3</td>\n",
       "    </tr>\n",
       "    <tr>\n",
       "      <th>00:30</th>\n",
       "      <td>1.30650</td>\n",
       "      <td>V ugm-3</td>\n",
       "    </tr>\n",
       "    <tr>\n",
       "      <th>00:45</th>\n",
       "      <td>1.04573</td>\n",
       "      <td>V ugm-3</td>\n",
       "    </tr>\n",
       "    <tr>\n",
       "      <th>01:00</th>\n",
       "      <td>NaN</td>\n",
       "      <td></td>\n",
       "    </tr>\n",
       "    <tr>\n",
       "      <th>01:15</th>\n",
       "      <td>NaN</td>\n",
       "      <td></td>\n",
       "    </tr>\n",
       "    <tr>\n",
       "      <th>01:30</th>\n",
       "      <td>0.00000</td>\n",
       "      <td>V ugm-3</td>\n",
       "    </tr>\n",
       "    <tr>\n",
       "      <th>01:45</th>\n",
       "      <td>0.52154</td>\n",
       "      <td>V ugm-3</td>\n",
       "    </tr>\n",
       "    <tr>\n",
       "      <th>02:00</th>\n",
       "      <td>0.26077</td>\n",
       "      <td>V ugm-3</td>\n",
       "    </tr>\n",
       "    <tr>\n",
       "      <th>02:15</th>\n",
       "      <td>0.52154</td>\n",
       "      <td>V ugm-3</td>\n",
       "    </tr>\n",
       "    <tr>\n",
       "      <th>02:30</th>\n",
       "      <td>0.26077</td>\n",
       "      <td>V ugm-3</td>\n",
       "    </tr>\n",
       "    <tr>\n",
       "      <th>02:45</th>\n",
       "      <td>0.52154</td>\n",
       "      <td>V ugm-3</td>\n",
       "    </tr>\n",
       "    <tr>\n",
       "      <th>03:00</th>\n",
       "      <td>0.26077</td>\n",
       "      <td>V ugm-3</td>\n",
       "    </tr>\n",
       "    <tr>\n",
       "      <th>03:15</th>\n",
       "      <td>0.78497</td>\n",
       "      <td>V ugm-3</td>\n",
       "    </tr>\n",
       "    <tr>\n",
       "      <th>03:30</th>\n",
       "      <td>0.78497</td>\n",
       "      <td>V ugm-3</td>\n",
       "    </tr>\n",
       "    <tr>\n",
       "      <th>03:45</th>\n",
       "      <td>1.04573</td>\n",
       "      <td>V ugm-3</td>\n",
       "    </tr>\n",
       "    <tr>\n",
       "      <th>04:00</th>\n",
       "      <td>1.04573</td>\n",
       "      <td>V ugm-3</td>\n",
       "    </tr>\n",
       "    <tr>\n",
       "      <th>04:15</th>\n",
       "      <td>1.04573</td>\n",
       "      <td>V ugm-3</td>\n",
       "    </tr>\n",
       "    <tr>\n",
       "      <th>04:30</th>\n",
       "      <td>1.30650</td>\n",
       "      <td>V ugm-3</td>\n",
       "    </tr>\n",
       "    <tr>\n",
       "      <th>04:45</th>\n",
       "      <td>1.30650</td>\n",
       "      <td>V ugm-3</td>\n",
       "    </tr>\n",
       "    <tr>\n",
       "      <th>05:00</th>\n",
       "      <td>0.52154</td>\n",
       "      <td>V ugm-3</td>\n",
       "    </tr>\n",
       "  </tbody>\n",
       "</table>\n",
       "</div>"
      ],
      "text/plain": [
       "                  Sulphur dioxide status/unit\n",
       "Date       time                              \n",
       "2015-12-01 00:15          1.04573     V ugm-3\n",
       "           00:30          1.30650     V ugm-3\n",
       "           00:45          1.04573     V ugm-3\n",
       "           01:00              NaN            \n",
       "           01:15              NaN            \n",
       "           01:30          0.00000     V ugm-3\n",
       "           01:45          0.52154     V ugm-3\n",
       "           02:00          0.26077     V ugm-3\n",
       "           02:15          0.52154     V ugm-3\n",
       "           02:30          0.26077     V ugm-3\n",
       "           02:45          0.52154     V ugm-3\n",
       "           03:00          0.26077     V ugm-3\n",
       "           03:15          0.78497     V ugm-3\n",
       "           03:30          0.78497     V ugm-3\n",
       "           03:45          1.04573     V ugm-3\n",
       "           04:00          1.04573     V ugm-3\n",
       "           04:15          1.04573     V ugm-3\n",
       "           04:30          1.30650     V ugm-3\n",
       "           04:45          1.30650     V ugm-3\n",
       "           05:00          0.52154     V ugm-3"
      ]
     },
     "execution_count": 7,
     "metadata": {},
     "output_type": "execute_result"
    }
   ],
   "source": [
    "#idf2.loc['2015-12-01','00:00']['Sulphur dioxide'].append('2')\n",
    "idf2.head(20)"
   ]
  },
  {
   "cell_type": "code",
   "execution_count": 8,
   "metadata": {
    "collapsed": false
   },
   "outputs": [
    {
     "name": "stderr",
     "output_type": "stream",
     "text": [
      "/home/vagrant/anaconda2/lib/python2.7/site-packages/ipykernel/__main__.py:1: FutureWarning: convert_objects is deprecated.  Use the data-type specific converters pd.to_datetime, pd.to_timedelta and pd.to_numeric.\n",
      "  if __name__ == '__main__':\n"
     ]
    },
    {
     "data": {
      "text/html": [
       "<div>\n",
       "<table border=\"1\" class=\"dataframe\">\n",
       "  <thead>\n",
       "    <tr style=\"text-align: right;\">\n",
       "      <th></th>\n",
       "      <th></th>\n",
       "      <th>PM10 particulate matter (Hourly measured)</th>\n",
       "      <th>status/unit</th>\n",
       "      <th>Modelled Wind Direction</th>\n",
       "      <th>status/unit.1</th>\n",
       "      <th>Modelled Wind Speed</th>\n",
       "      <th>status/unit.2</th>\n",
       "      <th>Modelled Temperature</th>\n",
       "      <th>status/unit.3</th>\n",
       "      <th>Nitric oxide</th>\n",
       "      <th>status/unit.4</th>\n",
       "      <th>Nitrogen dioxide</th>\n",
       "      <th>status/unit.5</th>\n",
       "      <th>Ozone</th>\n",
       "      <th>status/unit.6</th>\n",
       "      <th>PM2.5 particulate matter (Hourly measured)</th>\n",
       "      <th>status/unit.7</th>\n",
       "      <th>Sulphur dioxide</th>\n",
       "      <th>status/unit.8</th>\n",
       "    </tr>\n",
       "    <tr>\n",
       "      <th>Date</th>\n",
       "      <th>time</th>\n",
       "      <th></th>\n",
       "      <th></th>\n",
       "      <th></th>\n",
       "      <th></th>\n",
       "      <th></th>\n",
       "      <th></th>\n",
       "      <th></th>\n",
       "      <th></th>\n",
       "      <th></th>\n",
       "      <th></th>\n",
       "      <th></th>\n",
       "      <th></th>\n",
       "      <th></th>\n",
       "      <th></th>\n",
       "      <th></th>\n",
       "      <th></th>\n",
       "      <th></th>\n",
       "      <th></th>\n",
       "    </tr>\n",
       "  </thead>\n",
       "  <tbody>\n",
       "    <tr>\n",
       "      <th>2015-12-01</th>\n",
       "      <th>01:00</th>\n",
       "      <td>4.0</td>\n",
       "      <td>V ugm-3 (TEOM FDMS)</td>\n",
       "      <td>NaN</td>\n",
       "      <td>NaN</td>\n",
       "      <td>NaN</td>\n",
       "      <td>NaN</td>\n",
       "      <td>NaN</td>\n",
       "      <td>NaN</td>\n",
       "      <td>1.48512</td>\n",
       "      <td>V ugm-3</td>\n",
       "      <td>27.98243</td>\n",
       "      <td>V ugm-3</td>\n",
       "      <td>33.86038</td>\n",
       "      <td>V ugm-3</td>\n",
       "      <td>6.1</td>\n",
       "      <td>V ugm-3 (TEOM FDMS)</td>\n",
       "      <td>1.13266</td>\n",
       "      <td>V ugm-3</td>\n",
       "    </tr>\n",
       "  </tbody>\n",
       "</table>\n",
       "</div>"
      ],
      "text/plain": [
       "                  PM10 particulate matter (Hourly measured)  \\\n",
       "Date       time                                               \n",
       "2015-12-01 01:00                                        4.0   \n",
       "\n",
       "                          status/unit  Modelled Wind Direction status/unit.1  \\\n",
       "Date       time                                                                \n",
       "2015-12-01 01:00  V ugm-3 (TEOM FDMS)                      NaN           NaN   \n",
       "\n",
       "                  Modelled Wind Speed status/unit.2  Modelled Temperature  \\\n",
       "Date       time                                                             \n",
       "2015-12-01 01:00                  NaN           NaN                   NaN   \n",
       "\n",
       "                 status/unit.3  Nitric oxide status/unit.4  Nitrogen dioxide  \\\n",
       "Date       time                                                                \n",
       "2015-12-01 01:00           NaN       1.48512       V ugm-3          27.98243   \n",
       "\n",
       "                 status/unit.5     Ozone status/unit.6  \\\n",
       "Date       time                                          \n",
       "2015-12-01 01:00       V ugm-3  33.86038       V ugm-3   \n",
       "\n",
       "                  PM2.5 particulate matter (Hourly measured)  \\\n",
       "Date       time                                                \n",
       "2015-12-01 01:00                                         6.1   \n",
       "\n",
       "                        status/unit.7  Sulphur dioxide status/unit.8  \n",
       "Date       time                                                       \n",
       "2015-12-01 01:00  V ugm-3 (TEOM FDMS)          1.13266       V ugm-3  "
      ]
     },
     "execution_count": 8,
     "metadata": {},
     "output_type": "execute_result"
    }
   ],
   "source": [
    "idf = idf.convert_objects(convert_numeric=True)\n",
    "idf.head(1)"
   ]
  },
  {
   "cell_type": "code",
   "execution_count": 15,
   "metadata": {
    "collapsed": false
   },
   "outputs": [],
   "source": [
    "def qualityindex(df):\n",
    "    \n",
    "    ozoneindex = []\n",
    "    #TODO 8h keskiarvo\n",
    "    for i in df['Ozone']:\n",
    "        if i>=0 and i<34:\n",
    "            ozoneindex.append('1')\n",
    "        elif i>=34 and i<67:\n",
    "            ozoneindex.append('2')\n",
    "        elif i>=67 and i<101:\n",
    "            ozoneindex.append('3')\n",
    "        elif i>=101 and i<121:\n",
    "            ozoneindex.append('4')\n",
    "        elif i>=121 and i<141:\n",
    "            ozoneindex.append('5')\n",
    "        elif i>=141 and i<161:\n",
    "            ozoneindex.append('6')\n",
    "        elif i>=161 and i<188:\n",
    "            ozoneindex.append('7')\n",
    "        elif i>=188 and i<214:\n",
    "            ozoneindex.append('8')\n",
    "        elif i>=214 and i<241:\n",
    "            ozoneindex.append('9')\n",
    "        elif i>=241:\n",
    "            ozoneindex.append('10')\n",
    "        else:\n",
    "            ozoneindex.append('0')\n",
    "    df['Ozoneindex'] = ozoneindex\n",
    "\n",
    "    PM25index= []\n",
    "    for i in df['PM2.5 particulate matter (Hourly measured)']:\n",
    "        if i>=0 and i<12:\n",
    "            PM25index.append('1')\n",
    "        elif i>=12 and i<24:\n",
    "            PM25index.append('2')\n",
    "        elif i>=24 and i<36:\n",
    "            PM25index.append('3')\n",
    "        elif i>=36 and i<42:\n",
    "            PM25index.append('4')\n",
    "        elif i>=42 and i<48:\n",
    "            PM25index.append('5')\n",
    "        elif i>=48 and i<54:\n",
    "            PM25index.append('6')\n",
    "        elif i>=54 and i<59:\n",
    "            PM25index.append('7')\n",
    "        elif i>=59 and i<65:\n",
    "            PM25index.append('8')\n",
    "        elif i>=65 and i<71:\n",
    "            PM25index.append('9')\n",
    "        elif i>=71:\n",
    "            PM25index.append('10')\n",
    "        else:\n",
    "            PM25index.append('0')\n",
    "        df['PM25index'] = PM25index\n",
    "\n",
    "    PM10index = []\n",
    "    for i in df['PM10 particulate matter (Hourly measured)']:\n",
    "        if i>=0 and i<17:\n",
    "            PM10index.append('1')\n",
    "        elif i>=17 and i<34:\n",
    "            PM10index.append('2')\n",
    "        elif i>=34 and i<51:\n",
    "            PM10index.append('3')\n",
    "        elif i>=51 and i<59:\n",
    "            PM10index.append('4')\n",
    "        elif i>=59 and i<67:\n",
    "            PM10index.append('5')\n",
    "        elif i>=67 and i<76:\n",
    "            PM10index.append('6')\n",
    "        elif i>=76 and i<84:\n",
    "            PM10index.append('7')\n",
    "        elif i>=84 and i<92:\n",
    "            PM10index.append('8')\n",
    "        elif i>=92 and i<101:\n",
    "            PM10index.append('9')\n",
    "        elif i>=101:\n",
    "            PM10index.append('10')\n",
    "        else:\n",
    "            PM10index.append('0')\n",
    "        df['PM10index'] = PM10index\n",
    "\n",
    "    return df"
   ]
  },
  {
   "cell_type": "code",
   "execution_count": 16,
   "metadata": {
    "collapsed": false
   },
   "outputs": [
    {
     "name": "stderr",
     "output_type": "stream",
     "text": [
      "/home/vagrant/anaconda2/lib/python2.7/site-packages/ipykernel/__main__.py:27: SettingWithCopyWarning: \n",
      "A value is trying to be set on a copy of a slice from a DataFrame.\n",
      "Try using .loc[row_indexer,col_indexer] = value instead\n",
      "\n",
      "See the caveats in the documentation: http://pandas.pydata.org/pandas-docs/stable/indexing.html#indexing-view-versus-copy\n"
     ]
    },
    {
     "ename": "ValueError",
     "evalue": "Length of values does not match length of index",
     "output_type": "error",
     "traceback": [
      "\u001b[1;31m---------------------------------------------------------------------------\u001b[0m",
      "\u001b[1;31mValueError\u001b[0m                                Traceback (most recent call last)",
      "\u001b[1;32m<ipython-input-16-d8a640198b07>\u001b[0m in \u001b[0;36m<module>\u001b[1;34m()\u001b[0m\n\u001b[0;32m      1\u001b[0m \u001b[0mdata\u001b[0m \u001b[1;33m=\u001b[0m \u001b[0midf\u001b[0m\u001b[1;33m[\u001b[0m\u001b[1;33m[\u001b[0m\u001b[1;34m'Ozone'\u001b[0m\u001b[1;33m,\u001b[0m\u001b[1;34m'Nitrogen dioxide'\u001b[0m\u001b[1;33m,\u001b[0m\u001b[1;34m'Sulphur dioxide'\u001b[0m\u001b[1;33m,\u001b[0m\u001b[1;34m'PM2.5 particulate matter (Hourly measured)'\u001b[0m\u001b[1;33m,\u001b[0m\u001b[1;34m'PM10 particulate matter (Hourly measured)'\u001b[0m\u001b[1;33m]\u001b[0m\u001b[1;33m]\u001b[0m\u001b[1;33m\u001b[0m\u001b[0m\n\u001b[0;32m      2\u001b[0m \u001b[1;31m#print qualityindex(data)[['Ozone','Ozoneindex']]\u001b[0m\u001b[1;33m\u001b[0m\u001b[1;33m\u001b[0m\u001b[0m\n\u001b[1;32m----> 3\u001b[1;33m \u001b[0mdata\u001b[0m \u001b[1;33m=\u001b[0m \u001b[0mqualityindex\u001b[0m\u001b[1;33m(\u001b[0m\u001b[0mdata\u001b[0m\u001b[1;33m)\u001b[0m\u001b[1;33m\u001b[0m\u001b[0m\n\u001b[0m\u001b[0;32m      4\u001b[0m \u001b[0mdata\u001b[0m \u001b[1;33m=\u001b[0m \u001b[0mdata\u001b[0m\u001b[1;33m.\u001b[0m\u001b[0mconvert_objects\u001b[0m\u001b[1;33m(\u001b[0m\u001b[0mconvert_numeric\u001b[0m\u001b[1;33m=\u001b[0m\u001b[0mTrue\u001b[0m\u001b[1;33m)\u001b[0m\u001b[1;33m\u001b[0m\u001b[0m\n\u001b[0;32m      5\u001b[0m \u001b[0mdata\u001b[0m\u001b[1;33m\u001b[0m\u001b[0m\n",
      "\u001b[1;32m<ipython-input-15-a5568cd553b7>\u001b[0m in \u001b[0;36mqualityindex\u001b[1;34m(df)\u001b[0m\n\u001b[0;32m     51\u001b[0m         \u001b[1;32melse\u001b[0m\u001b[1;33m:\u001b[0m\u001b[1;33m\u001b[0m\u001b[0m\n\u001b[0;32m     52\u001b[0m             \u001b[0mPM25index\u001b[0m\u001b[1;33m.\u001b[0m\u001b[0mappend\u001b[0m\u001b[1;33m(\u001b[0m\u001b[1;34m'0'\u001b[0m\u001b[1;33m)\u001b[0m\u001b[1;33m\u001b[0m\u001b[0m\n\u001b[1;32m---> 53\u001b[1;33m         \u001b[0mdf\u001b[0m\u001b[1;33m[\u001b[0m\u001b[1;34m'PM25index'\u001b[0m\u001b[1;33m]\u001b[0m \u001b[1;33m=\u001b[0m \u001b[0mPM25index\u001b[0m\u001b[1;33m\u001b[0m\u001b[0m\n\u001b[0m\u001b[0;32m     54\u001b[0m \u001b[1;33m\u001b[0m\u001b[0m\n\u001b[0;32m     55\u001b[0m     \u001b[0mPM10index\u001b[0m \u001b[1;33m=\u001b[0m \u001b[1;33m[\u001b[0m\u001b[1;33m]\u001b[0m\u001b[1;33m\u001b[0m\u001b[0m\n",
      "\u001b[1;32m/home/vagrant/anaconda2/lib/python2.7/site-packages/pandas/core/frame.pyc\u001b[0m in \u001b[0;36m__setitem__\u001b[1;34m(self, key, value)\u001b[0m\n\u001b[0;32m   2346\u001b[0m         \u001b[1;32melse\u001b[0m\u001b[1;33m:\u001b[0m\u001b[1;33m\u001b[0m\u001b[0m\n\u001b[0;32m   2347\u001b[0m             \u001b[1;31m# set column\u001b[0m\u001b[1;33m\u001b[0m\u001b[1;33m\u001b[0m\u001b[0m\n\u001b[1;32m-> 2348\u001b[1;33m             \u001b[0mself\u001b[0m\u001b[1;33m.\u001b[0m\u001b[0m_set_item\u001b[0m\u001b[1;33m(\u001b[0m\u001b[0mkey\u001b[0m\u001b[1;33m,\u001b[0m \u001b[0mvalue\u001b[0m\u001b[1;33m)\u001b[0m\u001b[1;33m\u001b[0m\u001b[0m\n\u001b[0m\u001b[0;32m   2349\u001b[0m \u001b[1;33m\u001b[0m\u001b[0m\n\u001b[0;32m   2350\u001b[0m     \u001b[1;32mdef\u001b[0m \u001b[0m_setitem_slice\u001b[0m\u001b[1;33m(\u001b[0m\u001b[0mself\u001b[0m\u001b[1;33m,\u001b[0m \u001b[0mkey\u001b[0m\u001b[1;33m,\u001b[0m \u001b[0mvalue\u001b[0m\u001b[1;33m)\u001b[0m\u001b[1;33m:\u001b[0m\u001b[1;33m\u001b[0m\u001b[0m\n",
      "\u001b[1;32m/home/vagrant/anaconda2/lib/python2.7/site-packages/pandas/core/frame.pyc\u001b[0m in \u001b[0;36m_set_item\u001b[1;34m(self, key, value)\u001b[0m\n\u001b[0;32m   2412\u001b[0m \u001b[1;33m\u001b[0m\u001b[0m\n\u001b[0;32m   2413\u001b[0m         \u001b[0mself\u001b[0m\u001b[1;33m.\u001b[0m\u001b[0m_ensure_valid_index\u001b[0m\u001b[1;33m(\u001b[0m\u001b[0mvalue\u001b[0m\u001b[1;33m)\u001b[0m\u001b[1;33m\u001b[0m\u001b[0m\n\u001b[1;32m-> 2414\u001b[1;33m         \u001b[0mvalue\u001b[0m \u001b[1;33m=\u001b[0m \u001b[0mself\u001b[0m\u001b[1;33m.\u001b[0m\u001b[0m_sanitize_column\u001b[0m\u001b[1;33m(\u001b[0m\u001b[0mkey\u001b[0m\u001b[1;33m,\u001b[0m \u001b[0mvalue\u001b[0m\u001b[1;33m)\u001b[0m\u001b[1;33m\u001b[0m\u001b[0m\n\u001b[0m\u001b[0;32m   2415\u001b[0m         \u001b[0mNDFrame\u001b[0m\u001b[1;33m.\u001b[0m\u001b[0m_set_item\u001b[0m\u001b[1;33m(\u001b[0m\u001b[0mself\u001b[0m\u001b[1;33m,\u001b[0m \u001b[0mkey\u001b[0m\u001b[1;33m,\u001b[0m \u001b[0mvalue\u001b[0m\u001b[1;33m)\u001b[0m\u001b[1;33m\u001b[0m\u001b[0m\n\u001b[0;32m   2416\u001b[0m \u001b[1;33m\u001b[0m\u001b[0m\n",
      "\u001b[1;32m/home/vagrant/anaconda2/lib/python2.7/site-packages/pandas/core/frame.pyc\u001b[0m in \u001b[0;36m_sanitize_column\u001b[1;34m(self, key, value)\u001b[0m\n\u001b[0;32m   2570\u001b[0m \u001b[1;33m\u001b[0m\u001b[0m\n\u001b[0;32m   2571\u001b[0m             \u001b[1;31m# turn me into an ndarray\u001b[0m\u001b[1;33m\u001b[0m\u001b[1;33m\u001b[0m\u001b[0m\n\u001b[1;32m-> 2572\u001b[1;33m             \u001b[0mvalue\u001b[0m \u001b[1;33m=\u001b[0m \u001b[0m_sanitize_index\u001b[0m\u001b[1;33m(\u001b[0m\u001b[0mvalue\u001b[0m\u001b[1;33m,\u001b[0m \u001b[0mself\u001b[0m\u001b[1;33m.\u001b[0m\u001b[0mindex\u001b[0m\u001b[1;33m,\u001b[0m \u001b[0mcopy\u001b[0m\u001b[1;33m=\u001b[0m\u001b[0mFalse\u001b[0m\u001b[1;33m)\u001b[0m\u001b[1;33m\u001b[0m\u001b[0m\n\u001b[0m\u001b[0;32m   2573\u001b[0m             \u001b[1;32mif\u001b[0m \u001b[1;32mnot\u001b[0m \u001b[0misinstance\u001b[0m\u001b[1;33m(\u001b[0m\u001b[0mvalue\u001b[0m\u001b[1;33m,\u001b[0m \u001b[1;33m(\u001b[0m\u001b[0mnp\u001b[0m\u001b[1;33m.\u001b[0m\u001b[0mndarray\u001b[0m\u001b[1;33m,\u001b[0m \u001b[0mIndex\u001b[0m\u001b[1;33m)\u001b[0m\u001b[1;33m)\u001b[0m\u001b[1;33m:\u001b[0m\u001b[1;33m\u001b[0m\u001b[0m\n\u001b[0;32m   2574\u001b[0m                 \u001b[1;32mif\u001b[0m \u001b[0misinstance\u001b[0m\u001b[1;33m(\u001b[0m\u001b[0mvalue\u001b[0m\u001b[1;33m,\u001b[0m \u001b[0mlist\u001b[0m\u001b[1;33m)\u001b[0m \u001b[1;32mand\u001b[0m \u001b[0mlen\u001b[0m\u001b[1;33m(\u001b[0m\u001b[0mvalue\u001b[0m\u001b[1;33m)\u001b[0m \u001b[1;33m>\u001b[0m \u001b[1;36m0\u001b[0m\u001b[1;33m:\u001b[0m\u001b[1;33m\u001b[0m\u001b[0m\n",
      "\u001b[1;32m/home/vagrant/anaconda2/lib/python2.7/site-packages/pandas/core/series.pyc\u001b[0m in \u001b[0;36m_sanitize_index\u001b[1;34m(data, index, copy)\u001b[0m\n\u001b[0;32m   2819\u001b[0m \u001b[1;33m\u001b[0m\u001b[0m\n\u001b[0;32m   2820\u001b[0m     \u001b[1;32mif\u001b[0m \u001b[0mlen\u001b[0m\u001b[1;33m(\u001b[0m\u001b[0mdata\u001b[0m\u001b[1;33m)\u001b[0m \u001b[1;33m!=\u001b[0m \u001b[0mlen\u001b[0m\u001b[1;33m(\u001b[0m\u001b[0mindex\u001b[0m\u001b[1;33m)\u001b[0m\u001b[1;33m:\u001b[0m\u001b[1;33m\u001b[0m\u001b[0m\n\u001b[1;32m-> 2821\u001b[1;33m         \u001b[1;32mraise\u001b[0m \u001b[0mValueError\u001b[0m\u001b[1;33m(\u001b[0m\u001b[1;34m'Length of values does not match length of '\u001b[0m \u001b[1;34m'index'\u001b[0m\u001b[1;33m)\u001b[0m\u001b[1;33m\u001b[0m\u001b[0m\n\u001b[0m\u001b[0;32m   2822\u001b[0m \u001b[1;33m\u001b[0m\u001b[0m\n\u001b[0;32m   2823\u001b[0m     \u001b[1;32mif\u001b[0m \u001b[0misinstance\u001b[0m\u001b[1;33m(\u001b[0m\u001b[0mdata\u001b[0m\u001b[1;33m,\u001b[0m \u001b[0mPeriodIndex\u001b[0m\u001b[1;33m)\u001b[0m\u001b[1;33m:\u001b[0m\u001b[1;33m\u001b[0m\u001b[0m\n",
      "\u001b[1;31mValueError\u001b[0m: Length of values does not match length of index"
     ]
    }
   ],
   "source": [
    "data = idf[['Ozone','Nitrogen dioxide','Sulphur dioxide','PM2.5 particulate matter (Hourly measured)','PM10 particulate matter (Hourly measured)']]\n",
    "#print qualityindex(data)[['Ozone','Ozoneindex']]\n",
    "data = qualityindex(data)\n",
    "data = data.convert_objects(convert_numeric=True)\n",
    "data"
   ]
  },
  {
   "cell_type": "code",
   "execution_count": null,
   "metadata": {
    "collapsed": true
   },
   "outputs": [],
   "source": []
  },
  {
   "cell_type": "code",
   "execution_count": null,
   "metadata": {
    "collapsed": true
   },
   "outputs": [],
   "source": []
  }
 ],
 "metadata": {
  "kernelspec": {
   "display_name": "Python 2",
   "language": "python",
   "name": "python2"
  },
  "language_info": {
   "codemirror_mode": {
    "name": "ipython",
    "version": 2
   },
   "file_extension": ".py",
   "mimetype": "text/x-python",
   "name": "python",
   "nbconvert_exporter": "python",
   "pygments_lexer": "ipython2",
   "version": "2.7.11"
  }
 },
 "nbformat": 4,
 "nbformat_minor": 0
}
