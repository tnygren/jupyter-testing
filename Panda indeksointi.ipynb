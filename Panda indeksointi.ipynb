{
 "cells": [
  {
   "cell_type": "code",
   "execution_count": 101,
   "metadata": {
    "collapsed": true
   },
   "outputs": [],
   "source": [
    "from pandas import *\n",
    "import pandas as pd\n",
    "import matplotlib.pyplot as plt\n",
    "import numpy as np\n",
    "plt.style.use('ggplot')\n",
    "%matplotlib inline"
   ]
  },
  {
   "cell_type": "markdown",
   "metadata": {},
   "source": [
    "## Multi index"
   ]
  },
  {
   "cell_type": "code",
   "execution_count": 102,
   "metadata": {
    "collapsed": true
   },
   "outputs": [
    {
     "data": {
      "text/html": [
       "<div>\n",
       "<table border=\"1\" class=\"dataframe\">\n",
       "  <thead>\n",
       "    <tr style=\"text-align: right;\">\n",
       "      <th></th>\n",
       "      <th></th>\n",
       "      <th>a</th>\n",
       "      <th>b</th>\n",
       "    </tr>\n",
       "    <tr>\n",
       "      <th>first</th>\n",
       "      <th>second</th>\n",
       "      <th></th>\n",
       "      <th></th>\n",
       "    </tr>\n",
       "  </thead>\n",
       "  <tbody>\n",
       "    <tr>\n",
       "      <th rowspan=\"2\" valign=\"top\">bar</th>\n",
       "      <th>one</th>\n",
       "      <td>0.301236</td>\n",
       "      <td>0.604859</td>\n",
       "    </tr>\n",
       "    <tr>\n",
       "      <th>two</th>\n",
       "      <td>0.353132</td>\n",
       "      <td>1.527721</td>\n",
       "    </tr>\n",
       "    <tr>\n",
       "      <th rowspan=\"2\" valign=\"top\">baz</th>\n",
       "      <th>one</th>\n",
       "      <td>1.252210</td>\n",
       "      <td>-0.690700</td>\n",
       "    </tr>\n",
       "    <tr>\n",
       "      <th>two</th>\n",
       "      <td>-3.107441</td>\n",
       "      <td>0.263365</td>\n",
       "    </tr>\n",
       "    <tr>\n",
       "      <th rowspan=\"2\" valign=\"top\">foo</th>\n",
       "      <th>one</th>\n",
       "      <td>-0.033129</td>\n",
       "      <td>-0.538272</td>\n",
       "    </tr>\n",
       "    <tr>\n",
       "      <th>two</th>\n",
       "      <td>0.725509</td>\n",
       "      <td>-1.203986</td>\n",
       "    </tr>\n",
       "    <tr>\n",
       "      <th rowspan=\"2\" valign=\"top\">qux</th>\n",
       "      <th>one</th>\n",
       "      <td>-2.148146</td>\n",
       "      <td>1.316943</td>\n",
       "    </tr>\n",
       "    <tr>\n",
       "      <th>two</th>\n",
       "      <td>0.011062</td>\n",
       "      <td>0.936021</td>\n",
       "    </tr>\n",
       "  </tbody>\n",
       "</table>\n",
       "</div>"
      ],
      "text/plain": [
       "                     a         b\n",
       "first second                    \n",
       "bar   one     0.301236  0.604859\n",
       "      two     0.353132  1.527721\n",
       "baz   one     1.252210 -0.690700\n",
       "      two    -3.107441  0.263365\n",
       "foo   one    -0.033129 -0.538272\n",
       "      two     0.725509 -1.203986\n",
       "qux   one    -2.148146  1.316943\n",
       "      two     0.011062  0.936021"
      ]
     },
     "execution_count": 102,
     "metadata": {},
     "output_type": "execute_result"
    }
   ],
   "source": [
    "#Testi dataframe\n",
    "arrays = [['bar', 'bar', 'baz', 'baz', 'foo', 'foo', 'qux', 'qux'],\n",
    "          ['one', 'two', 'one', 'two', 'one', 'two', 'one', 'two']]\n",
    "tuples = zip(*arrays)\n",
    "index = pd.MultiIndex.from_tuples(tuples, names=['first','second'])\n",
    "s = pd.DataFrame(np.random.randn(8,2),index=index,columns=['a','b'])\n",
    "\n",
    "#s.index.set_levels([[u'cat', u'dog', u'foo', u'qux'], \n",
    "#                       [u'one', u'two']], inplace=True)\n",
    "s"
   ]
  },
  {
   "cell_type": "code",
   "execution_count": 103,
   "metadata": {
    "collapsed": true
   },
   "outputs": [
    {
     "data": {
      "text/plain": [
       "a    float64\n",
       "b    float64\n",
       "dtype: object"
      ]
     },
     "execution_count": 103,
     "metadata": {},
     "output_type": "execute_result"
    }
   ],
   "source": [
    "s.dtypes"
   ]
  },
  {
   "cell_type": "code",
   "execution_count": 104,
   "metadata": {
    "collapsed": true
   },
   "outputs": [
    {
     "data": {
      "text/html": [
       "<div>\n",
       "<table border=\"1\" class=\"dataframe\">\n",
       "  <thead>\n",
       "    <tr style=\"text-align: right;\">\n",
       "      <th></th>\n",
       "      <th>a</th>\n",
       "      <th>b</th>\n",
       "    </tr>\n",
       "    <tr>\n",
       "      <th>second</th>\n",
       "      <th></th>\n",
       "      <th></th>\n",
       "    </tr>\n",
       "  </thead>\n",
       "  <tbody>\n",
       "    <tr>\n",
       "      <th>one</th>\n",
       "      <td>0.301236</td>\n",
       "      <td>0.604859</td>\n",
       "    </tr>\n",
       "    <tr>\n",
       "      <th>two</th>\n",
       "      <td>0.353132</td>\n",
       "      <td>1.527721</td>\n",
       "    </tr>\n",
       "  </tbody>\n",
       "</table>\n",
       "</div>"
      ],
      "text/plain": [
       "               a         b\n",
       "second                    \n",
       "one     0.301236  0.604859\n",
       "two     0.353132  1.527721"
      ]
     },
     "execution_count": 104,
     "metadata": {},
     "output_type": "execute_result"
    }
   ],
   "source": [
    "s.loc['bar']"
   ]
  },
  {
   "cell_type": "code",
   "execution_count": 105,
   "metadata": {
    "collapsed": true
   },
   "outputs": [
    {
     "data": {
      "text/plain": [
       "a    0.725509\n",
       "b   -1.203986\n",
       "Name: (foo, two), dtype: float64"
      ]
     },
     "execution_count": 105,
     "metadata": {},
     "output_type": "execute_result"
    }
   ],
   "source": [
    "s.loc['foo', 'two']"
   ]
  },
  {
   "cell_type": "code",
   "execution_count": 106,
   "metadata": {
    "collapsed": true
   },
   "outputs": [
    {
     "data": {
      "text/html": [
       "<div>\n",
       "<table border=\"1\" class=\"dataframe\">\n",
       "  <thead>\n",
       "    <tr style=\"text-align: right;\">\n",
       "      <th></th>\n",
       "      <th></th>\n",
       "      <th>a</th>\n",
       "      <th>b</th>\n",
       "    </tr>\n",
       "    <tr>\n",
       "      <th>first</th>\n",
       "      <th>second</th>\n",
       "      <th></th>\n",
       "      <th></th>\n",
       "    </tr>\n",
       "  </thead>\n",
       "  <tbody>\n",
       "    <tr>\n",
       "      <th rowspan=\"2\" valign=\"top\">bar</th>\n",
       "      <th>one</th>\n",
       "      <td>0.301236</td>\n",
       "      <td>0.604859</td>\n",
       "    </tr>\n",
       "    <tr>\n",
       "      <th>two</th>\n",
       "      <td>0.353132</td>\n",
       "      <td>1.527721</td>\n",
       "    </tr>\n",
       "    <tr>\n",
       "      <th rowspan=\"2\" valign=\"top\">baz</th>\n",
       "      <th>one</th>\n",
       "      <td>1.252210</td>\n",
       "      <td>-0.690700</td>\n",
       "    </tr>\n",
       "    <tr>\n",
       "      <th>two</th>\n",
       "      <td>-3.107441</td>\n",
       "      <td>0.263365</td>\n",
       "    </tr>\n",
       "    <tr>\n",
       "      <th rowspan=\"2\" valign=\"top\">foo</th>\n",
       "      <th>one</th>\n",
       "      <td>-0.033129</td>\n",
       "      <td>-0.538272</td>\n",
       "    </tr>\n",
       "    <tr>\n",
       "      <th>two</th>\n",
       "      <td>0.725509</td>\n",
       "      <td>-1.203986</td>\n",
       "    </tr>\n",
       "  </tbody>\n",
       "</table>\n",
       "</div>"
      ],
      "text/plain": [
       "                     a         b\n",
       "first second                    \n",
       "bar   one     0.301236  0.604859\n",
       "      two     0.353132  1.527721\n",
       "baz   one     1.252210 -0.690700\n",
       "      two    -3.107441  0.263365\n",
       "foo   one    -0.033129 -0.538272\n",
       "      two     0.725509 -1.203986"
      ]
     },
     "execution_count": 106,
     "metadata": {},
     "output_type": "execute_result"
    }
   ],
   "source": [
    "s.loc['bar':'foo']"
   ]
  },
  {
   "cell_type": "markdown",
   "metadata": {},
   "source": [
    "## Multi index with datetime"
   ]
  },
  {
   "cell_type": "code",
   "execution_count": 107,
   "metadata": {
    "collapsed": true
   },
   "outputs": [
    {
     "data": {
      "text/html": [
       "<div>\n",
       "<table border=\"1\" class=\"dataframe\">\n",
       "  <thead>\n",
       "    <tr style=\"text-align: right;\">\n",
       "      <th></th>\n",
       "      <th></th>\n",
       "      <th>a</th>\n",
       "      <th>b</th>\n",
       "    </tr>\n",
       "    <tr>\n",
       "      <th>Date</th>\n",
       "      <th>time</th>\n",
       "      <th></th>\n",
       "      <th></th>\n",
       "    </tr>\n",
       "  </thead>\n",
       "  <tbody>\n",
       "    <tr>\n",
       "      <th rowspan=\"2\" valign=\"top\">01-12-2015</th>\n",
       "      <th>01:00</th>\n",
       "      <td>0.502769</td>\n",
       "      <td>0.910646</td>\n",
       "    </tr>\n",
       "    <tr>\n",
       "      <th>02:00</th>\n",
       "      <td>0.660366</td>\n",
       "      <td>-1.802613</td>\n",
       "    </tr>\n",
       "    <tr>\n",
       "      <th rowspan=\"2\" valign=\"top\">02-12-2015</th>\n",
       "      <th>01:00</th>\n",
       "      <td>1.210463</td>\n",
       "      <td>0.468561</td>\n",
       "    </tr>\n",
       "    <tr>\n",
       "      <th>02:00</th>\n",
       "      <td>-0.314019</td>\n",
       "      <td>-2.847259</td>\n",
       "    </tr>\n",
       "    <tr>\n",
       "      <th rowspan=\"2\" valign=\"top\">03-12-2015</th>\n",
       "      <th>01:00</th>\n",
       "      <td>-0.005705</td>\n",
       "      <td>0.869676</td>\n",
       "    </tr>\n",
       "    <tr>\n",
       "      <th>02:00</th>\n",
       "      <td>-0.191068</td>\n",
       "      <td>-0.043022</td>\n",
       "    </tr>\n",
       "    <tr>\n",
       "      <th rowspan=\"2\" valign=\"top\">04-12-2015</th>\n",
       "      <th>01:00</th>\n",
       "      <td>0.789163</td>\n",
       "      <td>0.732495</td>\n",
       "    </tr>\n",
       "    <tr>\n",
       "      <th>02:00</th>\n",
       "      <td>0.362027</td>\n",
       "      <td>-0.778389</td>\n",
       "    </tr>\n",
       "  </tbody>\n",
       "</table>\n",
       "</div>"
      ],
      "text/plain": [
       "                         a         b\n",
       "Date       time                     \n",
       "01-12-2015 01:00  0.502769  0.910646\n",
       "           02:00  0.660366 -1.802613\n",
       "02-12-2015 01:00  1.210463  0.468561\n",
       "           02:00 -0.314019 -2.847259\n",
       "03-12-2015 01:00 -0.005705  0.869676\n",
       "           02:00 -0.191068 -0.043022\n",
       "04-12-2015 01:00  0.789163  0.732495\n",
       "           02:00  0.362027 -0.778389"
      ]
     },
     "execution_count": 107,
     "metadata": {},
     "output_type": "execute_result"
    }
   ],
   "source": [
    "#Testi dataframe\n",
    "arrays = [['01-12-2015', '01-12-2015', '02-12-2015', '02-12-2015', '03-12-2015', '03-12-2015', '04-12-2015', '04-12-2015'],\n",
    "          ['01:00', '02:00', '01:00', '02:00', '01:00', '02:00', '01:00', '02:00']]\n",
    "tuples = zip(*arrays)\n",
    "index = pd.MultiIndex.from_tuples(tuples, names=['Date','time'])\n",
    "s = pd.DataFrame(np.random.randn(8,2),index=index,columns=['a','b'])\n",
    "\n",
    "#s.index.set_levels([[u'cat', u'dog', u'foo', u'qux'], \n",
    "#                       [u'one', u'two']], inplace=True)\n",
    "s"
   ]
  },
  {
   "cell_type": "code",
   "execution_count": 108,
   "metadata": {
    "collapsed": true
   },
   "outputs": [
    {
     "data": {
      "text/plain": [
       "a    float64\n",
       "b    float64\n",
       "dtype: object"
      ]
     },
     "execution_count": 108,
     "metadata": {},
     "output_type": "execute_result"
    }
   ],
   "source": [
    "s.dtypes"
   ]
  },
  {
   "cell_type": "code",
   "execution_count": 109,
   "metadata": {
    "collapsed": true
   },
   "outputs": [
    {
     "data": {
      "text/html": [
       "<div>\n",
       "<table border=\"1\" class=\"dataframe\">\n",
       "  <thead>\n",
       "    <tr style=\"text-align: right;\">\n",
       "      <th></th>\n",
       "      <th>a</th>\n",
       "      <th>b</th>\n",
       "    </tr>\n",
       "    <tr>\n",
       "      <th>time</th>\n",
       "      <th></th>\n",
       "      <th></th>\n",
       "    </tr>\n",
       "  </thead>\n",
       "  <tbody>\n",
       "    <tr>\n",
       "      <th>01:00</th>\n",
       "      <td>0.502769</td>\n",
       "      <td>0.910646</td>\n",
       "    </tr>\n",
       "    <tr>\n",
       "      <th>02:00</th>\n",
       "      <td>0.660366</td>\n",
       "      <td>-1.802613</td>\n",
       "    </tr>\n",
       "  </tbody>\n",
       "</table>\n",
       "</div>"
      ],
      "text/plain": [
       "              a         b\n",
       "time                     \n",
       "01:00  0.502769  0.910646\n",
       "02:00  0.660366 -1.802613"
      ]
     },
     "execution_count": 109,
     "metadata": {},
     "output_type": "execute_result"
    }
   ],
   "source": [
    "s.loc['01-12-2015']"
   ]
  },
  {
   "cell_type": "code",
   "execution_count": 110,
   "metadata": {
    "collapsed": true
   },
   "outputs": [
    {
     "data": {
      "text/plain": [
       "a    0.502769\n",
       "b    0.910646\n",
       "Name: (01-12-2015, 01:00), dtype: float64"
      ]
     },
     "execution_count": 110,
     "metadata": {},
     "output_type": "execute_result"
    }
   ],
   "source": [
    "s.loc['01-12-2015', '01:00']"
   ]
  },
  {
   "cell_type": "code",
   "execution_count": 111,
   "metadata": {
    "collapsed": true
   },
   "outputs": [
    {
     "data": {
      "text/html": [
       "<div>\n",
       "<table border=\"1\" class=\"dataframe\">\n",
       "  <thead>\n",
       "    <tr style=\"text-align: right;\">\n",
       "      <th></th>\n",
       "      <th></th>\n",
       "      <th>a</th>\n",
       "      <th>b</th>\n",
       "    </tr>\n",
       "    <tr>\n",
       "      <th>Date</th>\n",
       "      <th>time</th>\n",
       "      <th></th>\n",
       "      <th></th>\n",
       "    </tr>\n",
       "  </thead>\n",
       "  <tbody>\n",
       "    <tr>\n",
       "      <th rowspan=\"2\" valign=\"top\">01-12-2015</th>\n",
       "      <th>01:00</th>\n",
       "      <td>0.502769</td>\n",
       "      <td>0.910646</td>\n",
       "    </tr>\n",
       "    <tr>\n",
       "      <th>02:00</th>\n",
       "      <td>0.660366</td>\n",
       "      <td>-1.802613</td>\n",
       "    </tr>\n",
       "    <tr>\n",
       "      <th rowspan=\"2\" valign=\"top\">02-12-2015</th>\n",
       "      <th>01:00</th>\n",
       "      <td>1.210463</td>\n",
       "      <td>0.468561</td>\n",
       "    </tr>\n",
       "    <tr>\n",
       "      <th>02:00</th>\n",
       "      <td>-0.314019</td>\n",
       "      <td>-2.847259</td>\n",
       "    </tr>\n",
       "  </tbody>\n",
       "</table>\n",
       "</div>"
      ],
      "text/plain": [
       "                         a         b\n",
       "Date       time                     \n",
       "01-12-2015 01:00  0.502769  0.910646\n",
       "           02:00  0.660366 -1.802613\n",
       "02-12-2015 01:00  1.210463  0.468561\n",
       "           02:00 -0.314019 -2.847259"
      ]
     },
     "execution_count": 111,
     "metadata": {},
     "output_type": "execute_result"
    }
   ],
   "source": [
    "s.loc['01-12-2015':'02-12-2015']"
   ]
  },
  {
   "cell_type": "code",
   "execution_count": 112,
   "metadata": {
    "collapsed": false
   },
   "outputs": [],
   "source": [
    "s.to_csv('../data/indeksointiTesti.cvs')"
   ]
  },
  {
   "cell_type": "markdown",
   "metadata": {},
   "source": [
    "## Multi index with datetime and from cvs"
   ]
  },
  {
   "cell_type": "code",
   "execution_count": 113,
   "metadata": {
    "collapsed": true
   },
   "outputs": [
    {
     "data": {
      "text/html": [
       "<div>\n",
       "<table border=\"1\" class=\"dataframe\">\n",
       "  <thead>\n",
       "    <tr style=\"text-align: right;\">\n",
       "      <th></th>\n",
       "      <th></th>\n",
       "      <th>a</th>\n",
       "      <th>b</th>\n",
       "    </tr>\n",
       "    <tr>\n",
       "      <th>Date</th>\n",
       "      <th>time</th>\n",
       "      <th></th>\n",
       "      <th></th>\n",
       "    </tr>\n",
       "  </thead>\n",
       "  <tbody>\n",
       "    <tr>\n",
       "      <th rowspan=\"2\" valign=\"top\">01-12-2015</th>\n",
       "      <th>01:00</th>\n",
       "      <td>0.502769</td>\n",
       "      <td>0.910646</td>\n",
       "    </tr>\n",
       "    <tr>\n",
       "      <th>02:00</th>\n",
       "      <td>0.660366</td>\n",
       "      <td>-1.802613</td>\n",
       "    </tr>\n",
       "    <tr>\n",
       "      <th rowspan=\"2\" valign=\"top\">02-12-2015</th>\n",
       "      <th>01:00</th>\n",
       "      <td>1.210463</td>\n",
       "      <td>0.468561</td>\n",
       "    </tr>\n",
       "    <tr>\n",
       "      <th>02:00</th>\n",
       "      <td>-0.314019</td>\n",
       "      <td>-2.847259</td>\n",
       "    </tr>\n",
       "    <tr>\n",
       "      <th rowspan=\"2\" valign=\"top\">03-12-2015</th>\n",
       "      <th>01:00</th>\n",
       "      <td>-0.005705</td>\n",
       "      <td>0.869676</td>\n",
       "    </tr>\n",
       "    <tr>\n",
       "      <th>02:00</th>\n",
       "      <td>-0.191068</td>\n",
       "      <td>-0.043022</td>\n",
       "    </tr>\n",
       "    <tr>\n",
       "      <th rowspan=\"2\" valign=\"top\">04-12-2015</th>\n",
       "      <th>01:00</th>\n",
       "      <td>0.789163</td>\n",
       "      <td>0.732495</td>\n",
       "    </tr>\n",
       "    <tr>\n",
       "      <th>02:00</th>\n",
       "      <td>0.362027</td>\n",
       "      <td>-0.778389</td>\n",
       "    </tr>\n",
       "  </tbody>\n",
       "</table>\n",
       "</div>"
      ],
      "text/plain": [
       "                         a         b\n",
       "Date       time                     \n",
       "01-12-2015 01:00  0.502769  0.910646\n",
       "           02:00  0.660366 -1.802613\n",
       "02-12-2015 01:00  1.210463  0.468561\n",
       "           02:00 -0.314019 -2.847259\n",
       "03-12-2015 01:00 -0.005705  0.869676\n",
       "           02:00 -0.191068 -0.043022\n",
       "04-12-2015 01:00  0.789163  0.732495\n",
       "           02:00  0.362027 -0.778389"
      ]
     },
     "execution_count": 113,
     "metadata": {},
     "output_type": "execute_result"
    }
   ],
   "source": [
    "df = read_csv('../data/indeksointiTesti.cvs', header=0)\n",
    "idf = df.set_index(['Date','time'])\n",
    "idf"
   ]
  },
  {
   "cell_type": "code",
   "execution_count": 114,
   "metadata": {
    "collapsed": true
   },
   "outputs": [
    {
     "data": {
      "text/plain": [
       "a    float64\n",
       "b    float64\n",
       "dtype: object"
      ]
     },
     "execution_count": 114,
     "metadata": {},
     "output_type": "execute_result"
    }
   ],
   "source": [
    "idf.dtypes"
   ]
  },
  {
   "cell_type": "code",
   "execution_count": 115,
   "metadata": {
    "collapsed": true
   },
   "outputs": [
    {
     "data": {
      "text/plain": [
       "dtype('O')"
      ]
     },
     "execution_count": 115,
     "metadata": {},
     "output_type": "execute_result"
    }
   ],
   "source": [
    "idf.index.dtype"
   ]
  },
  {
   "cell_type": "code",
   "execution_count": 116,
   "metadata": {
    "collapsed": true
   },
   "outputs": [
    {
     "data": {
      "text/html": [
       "<div>\n",
       "<table border=\"1\" class=\"dataframe\">\n",
       "  <thead>\n",
       "    <tr style=\"text-align: right;\">\n",
       "      <th></th>\n",
       "      <th>a</th>\n",
       "      <th>b</th>\n",
       "    </tr>\n",
       "    <tr>\n",
       "      <th>time</th>\n",
       "      <th></th>\n",
       "      <th></th>\n",
       "    </tr>\n",
       "  </thead>\n",
       "  <tbody>\n",
       "    <tr>\n",
       "      <th>01:00</th>\n",
       "      <td>0.502769</td>\n",
       "      <td>0.910646</td>\n",
       "    </tr>\n",
       "    <tr>\n",
       "      <th>02:00</th>\n",
       "      <td>0.660366</td>\n",
       "      <td>-1.802613</td>\n",
       "    </tr>\n",
       "  </tbody>\n",
       "</table>\n",
       "</div>"
      ],
      "text/plain": [
       "              a         b\n",
       "time                     \n",
       "01:00  0.502769  0.910646\n",
       "02:00  0.660366 -1.802613"
      ]
     },
     "execution_count": 116,
     "metadata": {},
     "output_type": "execute_result"
    }
   ],
   "source": [
    "idf.loc['01-12-2015']"
   ]
  },
  {
   "cell_type": "code",
   "execution_count": 117,
   "metadata": {
    "collapsed": true
   },
   "outputs": [
    {
     "data": {
      "text/plain": [
       "a    0.502769\n",
       "b    0.910646\n",
       "Name: (01-12-2015, 01:00), dtype: float64"
      ]
     },
     "execution_count": 117,
     "metadata": {},
     "output_type": "execute_result"
    }
   ],
   "source": [
    "idf.loc['01-12-2015', '01:00']"
   ]
  },
  {
   "cell_type": "code",
   "execution_count": 118,
   "metadata": {
    "collapsed": false
   },
   "outputs": [
    {
     "data": {
      "text/html": [
       "<div>\n",
       "<table border=\"1\" class=\"dataframe\">\n",
       "  <thead>\n",
       "    <tr style=\"text-align: right;\">\n",
       "      <th></th>\n",
       "      <th></th>\n",
       "      <th>a</th>\n",
       "      <th>b</th>\n",
       "    </tr>\n",
       "    <tr>\n",
       "      <th>Date</th>\n",
       "      <th>time</th>\n",
       "      <th></th>\n",
       "      <th></th>\n",
       "    </tr>\n",
       "  </thead>\n",
       "  <tbody>\n",
       "    <tr>\n",
       "      <th rowspan=\"2\" valign=\"top\">01-12-2015</th>\n",
       "      <th>01:00</th>\n",
       "      <td>0.502769</td>\n",
       "      <td>0.910646</td>\n",
       "    </tr>\n",
       "    <tr>\n",
       "      <th>02:00</th>\n",
       "      <td>0.660366</td>\n",
       "      <td>-1.802613</td>\n",
       "    </tr>\n",
       "  </tbody>\n",
       "</table>\n",
       "</div>"
      ],
      "text/plain": [
       "                         a         b\n",
       "Date       time                     \n",
       "01-12-2015 01:00  0.502769  0.910646\n",
       "           02:00  0.660366 -1.802613"
      ]
     },
     "execution_count": 118,
     "metadata": {},
     "output_type": "execute_result"
    }
   ],
   "source": [
    "idf.loc['01-12-2015':'01-12-2015']"
   ]
  },
  {
   "cell_type": "code",
   "execution_count": 119,
   "metadata": {
    "collapsed": true
   },
   "outputs": [
    {
     "data": {
      "text/plain": [
       "Date        time \n",
       "01-12-2015  01:00    0.502769\n",
       "            02:00    0.660366\n",
       "02-12-2015  01:00    1.210463\n",
       "            02:00   -0.314019\n",
       "03-12-2015  01:00   -0.005705\n",
       "            02:00   -0.191068\n",
       "04-12-2015  01:00    0.789163\n",
       "            02:00    0.362027\n",
       "Name: a, dtype: float64"
      ]
     },
     "execution_count": 119,
     "metadata": {},
     "output_type": "execute_result"
    }
   ],
   "source": [
    "idf['a']"
   ]
  },
  {
   "cell_type": "code",
   "execution_count": 120,
   "metadata": {
    "collapsed": true
   },
   "outputs": [
    {
     "data": {
      "text/plain": [
       "Date        time \n",
       "01-12-2015  01:00    0.502769\n",
       "            02:00    0.660366\n",
       "02-12-2015  01:00    1.210463\n",
       "            02:00   -0.314019\n",
       "03-12-2015  01:00   -0.005705\n",
       "            02:00   -0.191068\n",
       "04-12-2015  01:00    0.789163\n",
       "            02:00    0.362027\n",
       "Name: a, dtype: float64"
      ]
     },
     "execution_count": 120,
     "metadata": {},
     "output_type": "execute_result"
    }
   ],
   "source": [
    "idf.a"
   ]
  },
  {
   "cell_type": "code",
   "execution_count": 121,
   "metadata": {
    "collapsed": true
   },
   "outputs": [
    {
     "data": {
      "text/html": [
       "<div>\n",
       "<table border=\"1\" class=\"dataframe\">\n",
       "  <thead>\n",
       "    <tr style=\"text-align: right;\">\n",
       "      <th></th>\n",
       "      <th></th>\n",
       "      <th>a</th>\n",
       "      <th>b</th>\n",
       "    </tr>\n",
       "    <tr>\n",
       "      <th>Date</th>\n",
       "      <th>time</th>\n",
       "      <th></th>\n",
       "      <th></th>\n",
       "    </tr>\n",
       "  </thead>\n",
       "  <tbody>\n",
       "    <tr>\n",
       "      <th rowspan=\"2\" valign=\"top\">01-12-2015</th>\n",
       "      <th>01:00</th>\n",
       "      <td>0.502769</td>\n",
       "      <td>0.910646</td>\n",
       "    </tr>\n",
       "    <tr>\n",
       "      <th>02:00</th>\n",
       "      <td>0.660366</td>\n",
       "      <td>-1.802613</td>\n",
       "    </tr>\n",
       "    <tr>\n",
       "      <th rowspan=\"2\" valign=\"top\">02-12-2015</th>\n",
       "      <th>01:00</th>\n",
       "      <td>1.210463</td>\n",
       "      <td>0.468561</td>\n",
       "    </tr>\n",
       "    <tr>\n",
       "      <th>02:00</th>\n",
       "      <td>-0.314019</td>\n",
       "      <td>-2.847259</td>\n",
       "    </tr>\n",
       "    <tr>\n",
       "      <th rowspan=\"2\" valign=\"top\">03-12-2015</th>\n",
       "      <th>01:00</th>\n",
       "      <td>-0.005705</td>\n",
       "      <td>0.869676</td>\n",
       "    </tr>\n",
       "    <tr>\n",
       "      <th>02:00</th>\n",
       "      <td>-0.191068</td>\n",
       "      <td>-0.043022</td>\n",
       "    </tr>\n",
       "    <tr>\n",
       "      <th rowspan=\"2\" valign=\"top\">04-12-2015</th>\n",
       "      <th>01:00</th>\n",
       "      <td>0.789163</td>\n",
       "      <td>0.732495</td>\n",
       "    </tr>\n",
       "    <tr>\n",
       "      <th>02:00</th>\n",
       "      <td>0.362027</td>\n",
       "      <td>-0.778389</td>\n",
       "    </tr>\n",
       "  </tbody>\n",
       "</table>\n",
       "</div>"
      ],
      "text/plain": [
       "                         a         b\n",
       "Date       time                     \n",
       "01-12-2015 01:00  0.502769  0.910646\n",
       "           02:00  0.660366 -1.802613\n",
       "02-12-2015 01:00  1.210463  0.468561\n",
       "           02:00 -0.314019 -2.847259\n",
       "03-12-2015 01:00 -0.005705  0.869676\n",
       "           02:00 -0.191068 -0.043022\n",
       "04-12-2015 01:00  0.789163  0.732495\n",
       "           02:00  0.362027 -0.778389"
      ]
     },
     "execution_count": 121,
     "metadata": {},
     "output_type": "execute_result"
    }
   ],
   "source": [
    "idf[['a','b']]"
   ]
  },
  {
   "cell_type": "code",
   "execution_count": 122,
   "metadata": {
    "collapsed": true
   },
   "outputs": [
    {
     "data": {
      "text/html": [
       "<div>\n",
       "<table border=\"1\" class=\"dataframe\">\n",
       "  <thead>\n",
       "    <tr style=\"text-align: right;\">\n",
       "      <th></th>\n",
       "      <th></th>\n",
       "      <th>a</th>\n",
       "      <th>b</th>\n",
       "    </tr>\n",
       "    <tr>\n",
       "      <th>Date</th>\n",
       "      <th>time</th>\n",
       "      <th></th>\n",
       "      <th></th>\n",
       "    </tr>\n",
       "  </thead>\n",
       "  <tbody>\n",
       "    <tr>\n",
       "      <th rowspan=\"2\" valign=\"top\">01-12-2015</th>\n",
       "      <th>01:00</th>\n",
       "      <td>0.502769</td>\n",
       "      <td>0.910646</td>\n",
       "    </tr>\n",
       "    <tr>\n",
       "      <th>02:00</th>\n",
       "      <td>0.660366</td>\n",
       "      <td>-1.802613</td>\n",
       "    </tr>\n",
       "  </tbody>\n",
       "</table>\n",
       "</div>"
      ],
      "text/plain": [
       "                         a         b\n",
       "Date       time                     \n",
       "01-12-2015 01:00  0.502769  0.910646\n",
       "           02:00  0.660366 -1.802613"
      ]
     },
     "execution_count": 122,
     "metadata": {},
     "output_type": "execute_result"
    }
   ],
   "source": [
    "idf[:2]"
   ]
  },
  {
   "cell_type": "code",
   "execution_count": 123,
   "metadata": {
    "collapsed": true
   },
   "outputs": [
    {
     "data": {
      "text/html": [
       "<div>\n",
       "<table border=\"1\" class=\"dataframe\">\n",
       "  <thead>\n",
       "    <tr style=\"text-align: right;\">\n",
       "      <th></th>\n",
       "      <th></th>\n",
       "      <th>a</th>\n",
       "      <th>b</th>\n",
       "    </tr>\n",
       "    <tr>\n",
       "      <th>Date</th>\n",
       "      <th>time</th>\n",
       "      <th></th>\n",
       "      <th></th>\n",
       "    </tr>\n",
       "  </thead>\n",
       "  <tbody>\n",
       "    <tr>\n",
       "      <th rowspan=\"2\" valign=\"top\">03-12-2015</th>\n",
       "      <th>01:00</th>\n",
       "      <td>-0.005705</td>\n",
       "      <td>0.869676</td>\n",
       "    </tr>\n",
       "    <tr>\n",
       "      <th>02:00</th>\n",
       "      <td>-0.191068</td>\n",
       "      <td>-0.043022</td>\n",
       "    </tr>\n",
       "    <tr>\n",
       "      <th rowspan=\"2\" valign=\"top\">04-12-2015</th>\n",
       "      <th>01:00</th>\n",
       "      <td>0.789163</td>\n",
       "      <td>0.732495</td>\n",
       "    </tr>\n",
       "    <tr>\n",
       "      <th>02:00</th>\n",
       "      <td>0.362027</td>\n",
       "      <td>-0.778389</td>\n",
       "    </tr>\n",
       "  </tbody>\n",
       "</table>\n",
       "</div>"
      ],
      "text/plain": [
       "                         a         b\n",
       "Date       time                     \n",
       "03-12-2015 01:00 -0.005705  0.869676\n",
       "           02:00 -0.191068 -0.043022\n",
       "04-12-2015 01:00  0.789163  0.732495\n",
       "           02:00  0.362027 -0.778389"
      ]
     },
     "execution_count": 123,
     "metadata": {},
     "output_type": "execute_result"
    }
   ],
   "source": [
    "idf[4:]"
   ]
  },
  {
   "cell_type": "code",
   "execution_count": 124,
   "metadata": {
    "collapsed": true
   },
   "outputs": [
    {
     "data": {
      "text/plain": [
       "3.0139948516076407"
      ]
     },
     "execution_count": 124,
     "metadata": {},
     "output_type": "execute_result"
    }
   ],
   "source": [
    "sum(idf.a)"
   ]
  },
  {
   "cell_type": "markdown",
   "metadata": {},
   "source": [
    "## Index sorting"
   ]
  },
  {
   "cell_type": "code",
   "execution_count": 222,
   "metadata": {
    "collapsed": false,
    "scrolled": true
   },
   "outputs": [],
   "source": [
    "#df = read_csv('../data/indeksointiTesti.cvs', header=0)\n",
    "df = read_csv('../data/AirQualityDataHourly.csv', header=4)\n",
    "idf = df.set_index(['Date','time'])\n",
    "idf = idf['PM10 particulate matter (Hourly measured)']\n",
    "#idf = idf[['PM10 particulate matter (Hourly measured)','Nitric oxide']]"
   ]
  },
  {
   "cell_type": "code",
   "execution_count": 209,
   "metadata": {
    "collapsed": true
   },
   "outputs": [],
   "source": [
    "#idf = idf.sortlevel(level=0, sort_remaining=True)\n",
    "idf = idf.sortlevel(0,axis=0)"
   ]
  },
  {
   "cell_type": "code",
   "execution_count": 210,
   "metadata": {
    "collapsed": false
   },
   "outputs": [
    {
     "data": {
      "text/plain": [
       "True"
      ]
     },
     "execution_count": 210,
     "metadata": {},
     "output_type": "execute_result"
    }
   ],
   "source": [
    "idf.index.is_lexsorted()"
   ]
  },
  {
   "cell_type": "code",
   "execution_count": 211,
   "metadata": {
    "collapsed": false
   },
   "outputs": [
    {
     "data": {
      "text/plain": [
       "2"
      ]
     },
     "execution_count": 211,
     "metadata": {},
     "output_type": "execute_result"
    }
   ],
   "source": [
    "idf.index.lexsort_depth"
   ]
  },
  {
   "cell_type": "code",
   "execution_count": 212,
   "metadata": {
    "collapsed": true
   },
   "outputs": [
    {
     "data": {
      "text/html": [
       "<div>\n",
       "<table border=\"1\" class=\"dataframe\">\n",
       "  <thead>\n",
       "    <tr style=\"text-align: right;\">\n",
       "      <th></th>\n",
       "      <th></th>\n",
       "      <th>Nitric oxide</th>\n",
       "      <th>PM10 particulate matter (Hourly measured)</th>\n",
       "    </tr>\n",
       "    <tr>\n",
       "      <th>Date</th>\n",
       "      <th>time</th>\n",
       "      <th></th>\n",
       "      <th></th>\n",
       "    </tr>\n",
       "  </thead>\n",
       "  <tbody>\n",
       "    <tr>\n",
       "      <th rowspan=\"24\" valign=\"top\">01-12-2015</th>\n",
       "      <th>01:00</th>\n",
       "      <td>1.48512</td>\n",
       "      <td>4.0</td>\n",
       "    </tr>\n",
       "    <tr>\n",
       "      <th>02:00</th>\n",
       "      <td>0.81449</td>\n",
       "      <td>4.2</td>\n",
       "    </tr>\n",
       "    <tr>\n",
       "      <th>03:00</th>\n",
       "      <td>0.35922</td>\n",
       "      <td>2.5</td>\n",
       "    </tr>\n",
       "    <tr>\n",
       "      <th>04:00</th>\n",
       "      <td>0.71845</td>\n",
       "      <td>3.3</td>\n",
       "    </tr>\n",
       "    <tr>\n",
       "      <th>05:00</th>\n",
       "      <td>6.42983</td>\n",
       "      <td>7.0</td>\n",
       "    </tr>\n",
       "    <tr>\n",
       "      <th>06:00</th>\n",
       "      <td>0.32305</td>\n",
       "      <td>3.5</td>\n",
       "    </tr>\n",
       "    <tr>\n",
       "      <th>07:00</th>\n",
       "      <td>0.68259</td>\n",
       "      <td>7.0</td>\n",
       "    </tr>\n",
       "    <tr>\n",
       "      <th>08:00</th>\n",
       "      <td>1.58033</td>\n",
       "      <td>4.7</td>\n",
       "    </tr>\n",
       "    <tr>\n",
       "      <th>09:00</th>\n",
       "      <td>2.90964</td>\n",
       "      <td>7.3</td>\n",
       "    </tr>\n",
       "    <tr>\n",
       "      <th>10:00</th>\n",
       "      <td>3.84387</td>\n",
       "      <td>8.0</td>\n",
       "    </tr>\n",
       "    <tr>\n",
       "      <th>11:00</th>\n",
       "      <td>2.51456</td>\n",
       "      <td>13.5</td>\n",
       "    </tr>\n",
       "    <tr>\n",
       "      <th>12:00</th>\n",
       "      <td>3.05339</td>\n",
       "      <td>15.7</td>\n",
       "    </tr>\n",
       "    <tr>\n",
       "      <th>13:00</th>\n",
       "      <td>4.05934</td>\n",
       "      <td>14.2</td>\n",
       "    </tr>\n",
       "    <tr>\n",
       "      <th>14:00</th>\n",
       "      <td>2.33495</td>\n",
       "      <td>17.7</td>\n",
       "    </tr>\n",
       "    <tr>\n",
       "      <th>15:00</th>\n",
       "      <td>1.40103</td>\n",
       "      <td>20.9</td>\n",
       "    </tr>\n",
       "    <tr>\n",
       "      <th>16:00</th>\n",
       "      <td>1.50861</td>\n",
       "      <td>20.1</td>\n",
       "    </tr>\n",
       "    <tr>\n",
       "      <th>17:00</th>\n",
       "      <td>1.50892</td>\n",
       "      <td>19.3</td>\n",
       "    </tr>\n",
       "    <tr>\n",
       "      <th>18:00</th>\n",
       "      <td>1.22142</td>\n",
       "      <td>16.9</td>\n",
       "    </tr>\n",
       "    <tr>\n",
       "      <th>19:00</th>\n",
       "      <td>0.46743</td>\n",
       "      <td>16.0</td>\n",
       "    </tr>\n",
       "    <tr>\n",
       "      <th>20:00</th>\n",
       "      <td>0.39508</td>\n",
       "      <td>14.7</td>\n",
       "    </tr>\n",
       "    <tr>\n",
       "      <th>21:00</th>\n",
       "      <td>0.43125</td>\n",
       "      <td>19.4</td>\n",
       "    </tr>\n",
       "    <tr>\n",
       "      <th>22:00</th>\n",
       "      <td>0.35922</td>\n",
       "      <td>11.9</td>\n",
       "    </tr>\n",
       "    <tr>\n",
       "      <th>23:00</th>\n",
       "      <td>0.32305</td>\n",
       "      <td>16.2</td>\n",
       "    </tr>\n",
       "    <tr>\n",
       "      <th>24:00</th>\n",
       "      <td>0.35891</td>\n",
       "      <td>11.0</td>\n",
       "    </tr>\n",
       "    <tr>\n",
       "      <th rowspan=\"6\" valign=\"top\">02-01-2016</th>\n",
       "      <th>01:00</th>\n",
       "      <td>0.99784</td>\n",
       "      <td>13.0</td>\n",
       "    </tr>\n",
       "    <tr>\n",
       "      <th>02:00</th>\n",
       "      <td>0.33261</td>\n",
       "      <td>8.2</td>\n",
       "    </tr>\n",
       "    <tr>\n",
       "      <th>03:00</th>\n",
       "      <td>0.21828</td>\n",
       "      <td>9.4</td>\n",
       "    </tr>\n",
       "    <tr>\n",
       "      <th>04:00</th>\n",
       "      <td>0.28064</td>\n",
       "      <td>15.0</td>\n",
       "    </tr>\n",
       "    <tr>\n",
       "      <th>05:00</th>\n",
       "      <td>0.28064</td>\n",
       "      <td>16.2</td>\n",
       "    </tr>\n",
       "    <tr>\n",
       "      <th>06:00</th>\n",
       "      <td>0.74838</td>\n",
       "      <td>16.9</td>\n",
       "    </tr>\n",
       "    <tr>\n",
       "      <th>...</th>\n",
       "      <th>...</th>\n",
       "      <td>...</td>\n",
       "      <td>...</td>\n",
       "    </tr>\n",
       "    <tr>\n",
       "      <th rowspan=\"6\" valign=\"top\">02-04-2016</th>\n",
       "      <th>19:00</th>\n",
       "      <td>NaN</td>\n",
       "      <td>27.8</td>\n",
       "    </tr>\n",
       "    <tr>\n",
       "      <th>20:00</th>\n",
       "      <td>NaN</td>\n",
       "      <td>42.6</td>\n",
       "    </tr>\n",
       "    <tr>\n",
       "      <th>21:00</th>\n",
       "      <td>NaN</td>\n",
       "      <td>47.8</td>\n",
       "    </tr>\n",
       "    <tr>\n",
       "      <th>22:00</th>\n",
       "      <td>NaN</td>\n",
       "      <td>36.2</td>\n",
       "    </tr>\n",
       "    <tr>\n",
       "      <th>23:00</th>\n",
       "      <td>NaN</td>\n",
       "      <td>38.6</td>\n",
       "    </tr>\n",
       "    <tr>\n",
       "      <th>24:00</th>\n",
       "      <td>NaN</td>\n",
       "      <td>38.8</td>\n",
       "    </tr>\n",
       "    <tr>\n",
       "      <th rowspan=\"24\" valign=\"top\">02-12-2015</th>\n",
       "      <th>01:00</th>\n",
       "      <td>0.19125</td>\n",
       "      <td>9.3</td>\n",
       "    </tr>\n",
       "    <tr>\n",
       "      <th>02:00</th>\n",
       "      <td>0.23907</td>\n",
       "      <td>11.4</td>\n",
       "    </tr>\n",
       "    <tr>\n",
       "      <th>03:00</th>\n",
       "      <td>0.07172</td>\n",
       "      <td>13.8</td>\n",
       "    </tr>\n",
       "    <tr>\n",
       "      <th>04:00</th>\n",
       "      <td>0.14344</td>\n",
       "      <td>13.7</td>\n",
       "    </tr>\n",
       "    <tr>\n",
       "      <th>05:00</th>\n",
       "      <td>0.17930</td>\n",
       "      <td>9.9</td>\n",
       "    </tr>\n",
       "    <tr>\n",
       "      <th>06:00</th>\n",
       "      <td>0.32305</td>\n",
       "      <td>11.3</td>\n",
       "    </tr>\n",
       "    <tr>\n",
       "      <th>07:00</th>\n",
       "      <td>0.50297</td>\n",
       "      <td>15.7</td>\n",
       "    </tr>\n",
       "    <tr>\n",
       "      <th>08:00</th>\n",
       "      <td>1.61650</td>\n",
       "      <td>14.7</td>\n",
       "    </tr>\n",
       "    <tr>\n",
       "      <th>09:00</th>\n",
       "      <td>2.90964</td>\n",
       "      <td>18.7</td>\n",
       "    </tr>\n",
       "    <tr>\n",
       "      <th>10:00</th>\n",
       "      <td>3.84356</td>\n",
       "      <td>15.1</td>\n",
       "    </tr>\n",
       "    <tr>\n",
       "      <th>11:00</th>\n",
       "      <td>5.60381</td>\n",
       "      <td>19.5</td>\n",
       "    </tr>\n",
       "    <tr>\n",
       "      <th>12:00</th>\n",
       "      <td>3.05339</td>\n",
       "      <td>20.1</td>\n",
       "    </tr>\n",
       "    <tr>\n",
       "      <th>13:00</th>\n",
       "      <td>3.52050</td>\n",
       "      <td>21.9</td>\n",
       "    </tr>\n",
       "    <tr>\n",
       "      <th>14:00</th>\n",
       "      <td>NaN</td>\n",
       "      <td>25.0</td>\n",
       "    </tr>\n",
       "    <tr>\n",
       "      <th>15:00</th>\n",
       "      <td>3.52050</td>\n",
       "      <td>25.7</td>\n",
       "    </tr>\n",
       "    <tr>\n",
       "      <th>16:00</th>\n",
       "      <td>2.80206</td>\n",
       "      <td>25.4</td>\n",
       "    </tr>\n",
       "    <tr>\n",
       "      <th>17:00</th>\n",
       "      <td>2.94581</td>\n",
       "      <td>25.8</td>\n",
       "    </tr>\n",
       "    <tr>\n",
       "      <th>18:00</th>\n",
       "      <td>2.37112</td>\n",
       "      <td>23.6</td>\n",
       "    </tr>\n",
       "    <tr>\n",
       "      <th>19:00</th>\n",
       "      <td>1.43689</td>\n",
       "      <td>23.2</td>\n",
       "    </tr>\n",
       "    <tr>\n",
       "      <th>20:00</th>\n",
       "      <td>0.93392</td>\n",
       "      <td>21.8</td>\n",
       "    </tr>\n",
       "    <tr>\n",
       "      <th>21:00</th>\n",
       "      <td>0.79017</td>\n",
       "      <td>23.0</td>\n",
       "    </tr>\n",
       "    <tr>\n",
       "      <th>22:00</th>\n",
       "      <td>0.61087</td>\n",
       "      <td>23.8</td>\n",
       "    </tr>\n",
       "    <tr>\n",
       "      <th>23:00</th>\n",
       "      <td>0.53915</td>\n",
       "      <td>23.5</td>\n",
       "    </tr>\n",
       "    <tr>\n",
       "      <th>24:00</th>\n",
       "      <td>0.46743</td>\n",
       "      <td>22.9</td>\n",
       "    </tr>\n",
       "  </tbody>\n",
       "</table>\n",
       "<p>144 rows × 2 columns</p>\n",
       "</div>"
      ],
      "text/plain": [
       "                  Nitric oxide  PM10 particulate matter (Hourly measured)\n",
       "Date       time                                                          \n",
       "01-12-2015 01:00       1.48512                                        4.0\n",
       "           02:00       0.81449                                        4.2\n",
       "           03:00       0.35922                                        2.5\n",
       "           04:00       0.71845                                        3.3\n",
       "           05:00       6.42983                                        7.0\n",
       "           06:00       0.32305                                        3.5\n",
       "           07:00       0.68259                                        7.0\n",
       "           08:00       1.58033                                        4.7\n",
       "           09:00       2.90964                                        7.3\n",
       "           10:00       3.84387                                        8.0\n",
       "           11:00       2.51456                                       13.5\n",
       "           12:00       3.05339                                       15.7\n",
       "           13:00       4.05934                                       14.2\n",
       "           14:00       2.33495                                       17.7\n",
       "           15:00       1.40103                                       20.9\n",
       "           16:00       1.50861                                       20.1\n",
       "           17:00       1.50892                                       19.3\n",
       "           18:00       1.22142                                       16.9\n",
       "           19:00       0.46743                                       16.0\n",
       "           20:00       0.39508                                       14.7\n",
       "           21:00       0.43125                                       19.4\n",
       "           22:00       0.35922                                       11.9\n",
       "           23:00       0.32305                                       16.2\n",
       "           24:00       0.35891                                       11.0\n",
       "02-01-2016 01:00       0.99784                                       13.0\n",
       "           02:00       0.33261                                        8.2\n",
       "           03:00       0.21828                                        9.4\n",
       "           04:00       0.28064                                       15.0\n",
       "           05:00       0.28064                                       16.2\n",
       "           06:00       0.74838                                       16.9\n",
       "...                        ...                                        ...\n",
       "02-04-2016 19:00           NaN                                       27.8\n",
       "           20:00           NaN                                       42.6\n",
       "           21:00           NaN                                       47.8\n",
       "           22:00           NaN                                       36.2\n",
       "           23:00           NaN                                       38.6\n",
       "           24:00           NaN                                       38.8\n",
       "02-12-2015 01:00       0.19125                                        9.3\n",
       "           02:00       0.23907                                       11.4\n",
       "           03:00       0.07172                                       13.8\n",
       "           04:00       0.14344                                       13.7\n",
       "           05:00       0.17930                                        9.9\n",
       "           06:00       0.32305                                       11.3\n",
       "           07:00       0.50297                                       15.7\n",
       "           08:00       1.61650                                       14.7\n",
       "           09:00       2.90964                                       18.7\n",
       "           10:00       3.84356                                       15.1\n",
       "           11:00       5.60381                                       19.5\n",
       "           12:00       3.05339                                       20.1\n",
       "           13:00       3.52050                                       21.9\n",
       "           14:00           NaN                                       25.0\n",
       "           15:00       3.52050                                       25.7\n",
       "           16:00       2.80206                                       25.4\n",
       "           17:00       2.94581                                       25.8\n",
       "           18:00       2.37112                                       23.6\n",
       "           19:00       1.43689                                       23.2\n",
       "           20:00       0.93392                                       21.8\n",
       "           21:00       0.79017                                       23.0\n",
       "           22:00       0.61087                                       23.8\n",
       "           23:00       0.53915                                       23.5\n",
       "           24:00       0.46743                                       22.9\n",
       "\n",
       "[144 rows x 2 columns]"
      ]
     },
     "execution_count": 212,
     "metadata": {},
     "output_type": "execute_result"
    }
   ],
   "source": [
    "idf.loc['01-12-2015':'02-12-2015']"
   ]
  },
  {
   "cell_type": "code",
   "execution_count": 223,
   "metadata": {
    "collapsed": true
   },
   "outputs": [],
   "source": [
    "idf = idf.unstack()"
   ]
  },
  {
   "cell_type": "code",
   "execution_count": 224,
   "metadata": {
    "collapsed": false
   },
   "outputs": [
    {
     "ename": "AttributeError",
     "evalue": "'Index' object has no attribute 'lexsort_depth'",
     "output_type": "error",
     "traceback": [
      "\u001b[1;31m---------------------------------------------------------------------------\u001b[0m",
      "\u001b[1;31mAttributeError\u001b[0m                            Traceback (most recent call last)",
      "\u001b[1;32m<ipython-input-224-a9c178660ed5>\u001b[0m in \u001b[0;36m<module>\u001b[1;34m()\u001b[0m\n\u001b[1;32m----> 1\u001b[1;33m \u001b[0midf\u001b[0m\u001b[1;33m.\u001b[0m\u001b[0mindex\u001b[0m\u001b[1;33m.\u001b[0m\u001b[0mlexsort_depth\u001b[0m\u001b[1;33m\u001b[0m\u001b[0m\n\u001b[0m",
      "\u001b[1;31mAttributeError\u001b[0m: 'Index' object has no attribute 'lexsort_depth'"
     ]
    }
   ],
   "source": [
    "idf.index.lexsort_depth"
   ]
  },
  {
   "cell_type": "code",
   "execution_count": 225,
   "metadata": {
    "collapsed": false
   },
   "outputs": [
    {
     "data": {
      "text/html": [
       "<div>\n",
       "<table border=\"1\" class=\"dataframe\">\n",
       "  <thead>\n",
       "    <tr style=\"text-align: right;\">\n",
       "      <th>time</th>\n",
       "      <th>01:00</th>\n",
       "      <th>02:00</th>\n",
       "      <th>03:00</th>\n",
       "      <th>04:00</th>\n",
       "      <th>05:00</th>\n",
       "      <th>06:00</th>\n",
       "      <th>07:00</th>\n",
       "      <th>08:00</th>\n",
       "      <th>09:00</th>\n",
       "      <th>10:00</th>\n",
       "      <th>...</th>\n",
       "      <th>15:00</th>\n",
       "      <th>16:00</th>\n",
       "      <th>17:00</th>\n",
       "      <th>18:00</th>\n",
       "      <th>19:00</th>\n",
       "      <th>20:00</th>\n",
       "      <th>21:00</th>\n",
       "      <th>22:00</th>\n",
       "      <th>23:00</th>\n",
       "      <th>24:00</th>\n",
       "    </tr>\n",
       "    <tr>\n",
       "      <th>Date</th>\n",
       "      <th></th>\n",
       "      <th></th>\n",
       "      <th></th>\n",
       "      <th></th>\n",
       "      <th></th>\n",
       "      <th></th>\n",
       "      <th></th>\n",
       "      <th></th>\n",
       "      <th></th>\n",
       "      <th></th>\n",
       "      <th></th>\n",
       "      <th></th>\n",
       "      <th></th>\n",
       "      <th></th>\n",
       "      <th></th>\n",
       "      <th></th>\n",
       "      <th></th>\n",
       "      <th></th>\n",
       "      <th></th>\n",
       "      <th></th>\n",
       "      <th></th>\n",
       "    </tr>\n",
       "  </thead>\n",
       "  <tbody>\n",
       "    <tr>\n",
       "      <th>01-12-2015</th>\n",
       "      <td>4.0</td>\n",
       "      <td>4.2</td>\n",
       "      <td>2.5</td>\n",
       "      <td>3.3</td>\n",
       "      <td>7.0</td>\n",
       "      <td>3.5</td>\n",
       "      <td>7.0</td>\n",
       "      <td>4.7</td>\n",
       "      <td>7.3</td>\n",
       "      <td>8.0</td>\n",
       "      <td>...</td>\n",
       "      <td>20.9</td>\n",
       "      <td>20.1</td>\n",
       "      <td>19.3</td>\n",
       "      <td>16.9</td>\n",
       "      <td>16.0</td>\n",
       "      <td>14.7</td>\n",
       "      <td>19.4</td>\n",
       "      <td>11.9</td>\n",
       "      <td>16.2</td>\n",
       "      <td>11.0</td>\n",
       "    </tr>\n",
       "    <tr>\n",
       "      <th>02-01-2016</th>\n",
       "      <td>13.0</td>\n",
       "      <td>8.2</td>\n",
       "      <td>9.4</td>\n",
       "      <td>15.0</td>\n",
       "      <td>16.2</td>\n",
       "      <td>16.9</td>\n",
       "      <td>18.2</td>\n",
       "      <td>15.0</td>\n",
       "      <td>16.9</td>\n",
       "      <td>13.1</td>\n",
       "      <td>...</td>\n",
       "      <td>8.0</td>\n",
       "      <td>14.1</td>\n",
       "      <td>7.9</td>\n",
       "      <td>8.2</td>\n",
       "      <td>9.1</td>\n",
       "      <td>9.0</td>\n",
       "      <td>8.7</td>\n",
       "      <td>8.2</td>\n",
       "      <td>11.3</td>\n",
       "      <td>11.1</td>\n",
       "    </tr>\n",
       "    <tr>\n",
       "      <th>02-02-2016</th>\n",
       "      <td>24.5</td>\n",
       "      <td>23.3</td>\n",
       "      <td>23.2</td>\n",
       "      <td>21.8</td>\n",
       "      <td>21.4</td>\n",
       "      <td>25.8</td>\n",
       "      <td>25.6</td>\n",
       "      <td>24.2</td>\n",
       "      <td>18.9</td>\n",
       "      <td>19.7</td>\n",
       "      <td>...</td>\n",
       "      <td>15.0</td>\n",
       "      <td>16.1</td>\n",
       "      <td>19.7</td>\n",
       "      <td>16.8</td>\n",
       "      <td>16.6</td>\n",
       "      <td>17.1</td>\n",
       "      <td>15.9</td>\n",
       "      <td>14.8</td>\n",
       "      <td>15.3</td>\n",
       "      <td>12.8</td>\n",
       "    </tr>\n",
       "    <tr>\n",
       "      <th>02-03-2016</th>\n",
       "      <td>17.2</td>\n",
       "      <td>12.1</td>\n",
       "      <td>7.5</td>\n",
       "      <td>8.1</td>\n",
       "      <td>10.5</td>\n",
       "      <td>14.2</td>\n",
       "      <td>13.8</td>\n",
       "      <td>13.8</td>\n",
       "      <td>17.3</td>\n",
       "      <td>11.8</td>\n",
       "      <td>...</td>\n",
       "      <td>4.1</td>\n",
       "      <td>11.3</td>\n",
       "      <td>8.4</td>\n",
       "      <td>14.7</td>\n",
       "      <td>16.5</td>\n",
       "      <td>12.2</td>\n",
       "      <td>7.9</td>\n",
       "      <td>8.0</td>\n",
       "      <td>6.8</td>\n",
       "      <td>10.6</td>\n",
       "    </tr>\n",
       "    <tr>\n",
       "      <th>02-04-2016</th>\n",
       "      <td>22.2</td>\n",
       "      <td>23.2</td>\n",
       "      <td>16.6</td>\n",
       "      <td>20.2</td>\n",
       "      <td>24.9</td>\n",
       "      <td>25.1</td>\n",
       "      <td>25.3</td>\n",
       "      <td>24.6</td>\n",
       "      <td>19.8</td>\n",
       "      <td>17.8</td>\n",
       "      <td>...</td>\n",
       "      <td>14.7</td>\n",
       "      <td>16.9</td>\n",
       "      <td>18.2</td>\n",
       "      <td>24.8</td>\n",
       "      <td>27.8</td>\n",
       "      <td>42.6</td>\n",
       "      <td>47.8</td>\n",
       "      <td>36.2</td>\n",
       "      <td>38.6</td>\n",
       "      <td>38.8</td>\n",
       "    </tr>\n",
       "    <tr>\n",
       "      <th>02-12-2015</th>\n",
       "      <td>9.3</td>\n",
       "      <td>11.4</td>\n",
       "      <td>13.8</td>\n",
       "      <td>13.7</td>\n",
       "      <td>9.9</td>\n",
       "      <td>11.3</td>\n",
       "      <td>15.7</td>\n",
       "      <td>14.7</td>\n",
       "      <td>18.7</td>\n",
       "      <td>15.1</td>\n",
       "      <td>...</td>\n",
       "      <td>25.7</td>\n",
       "      <td>25.4</td>\n",
       "      <td>25.8</td>\n",
       "      <td>23.6</td>\n",
       "      <td>23.2</td>\n",
       "      <td>21.8</td>\n",
       "      <td>23.0</td>\n",
       "      <td>23.8</td>\n",
       "      <td>23.5</td>\n",
       "      <td>22.9</td>\n",
       "    </tr>\n",
       "  </tbody>\n",
       "</table>\n",
       "<p>6 rows × 24 columns</p>\n",
       "</div>"
      ],
      "text/plain": [
       "time        01:00  02:00  03:00  04:00  05:00  06:00  07:00  08:00  09:00  \\\n",
       "Date                                                                        \n",
       "01-12-2015    4.0    4.2    2.5    3.3    7.0    3.5    7.0    4.7    7.3   \n",
       "02-01-2016   13.0    8.2    9.4   15.0   16.2   16.9   18.2   15.0   16.9   \n",
       "02-02-2016   24.5   23.3   23.2   21.8   21.4   25.8   25.6   24.2   18.9   \n",
       "02-03-2016   17.2   12.1    7.5    8.1   10.5   14.2   13.8   13.8   17.3   \n",
       "02-04-2016   22.2   23.2   16.6   20.2   24.9   25.1   25.3   24.6   19.8   \n",
       "02-12-2015    9.3   11.4   13.8   13.7    9.9   11.3   15.7   14.7   18.7   \n",
       "\n",
       "time        10:00  ...    15:00  16:00  17:00  18:00  19:00  20:00  21:00  \\\n",
       "Date               ...                                                      \n",
       "01-12-2015    8.0  ...     20.9   20.1   19.3   16.9   16.0   14.7   19.4   \n",
       "02-01-2016   13.1  ...      8.0   14.1    7.9    8.2    9.1    9.0    8.7   \n",
       "02-02-2016   19.7  ...     15.0   16.1   19.7   16.8   16.6   17.1   15.9   \n",
       "02-03-2016   11.8  ...      4.1   11.3    8.4   14.7   16.5   12.2    7.9   \n",
       "02-04-2016   17.8  ...     14.7   16.9   18.2   24.8   27.8   42.6   47.8   \n",
       "02-12-2015   15.1  ...     25.7   25.4   25.8   23.6   23.2   21.8   23.0   \n",
       "\n",
       "time        22:00  23:00  24:00  \n",
       "Date                             \n",
       "01-12-2015   11.9   16.2   11.0  \n",
       "02-01-2016    8.2   11.3   11.1  \n",
       "02-02-2016   14.8   15.3   12.8  \n",
       "02-03-2016    8.0    6.8   10.6  \n",
       "02-04-2016   36.2   38.6   38.8  \n",
       "02-12-2015   23.8   23.5   22.9  \n",
       "\n",
       "[6 rows x 24 columns]"
      ]
     },
     "execution_count": 225,
     "metadata": {},
     "output_type": "execute_result"
    }
   ],
   "source": [
    "idf.loc['01-12-2015':'02-12-2015']"
   ]
  },
  {
   "cell_type": "code",
   "execution_count": null,
   "metadata": {
    "collapsed": true
   },
   "outputs": [],
   "source": []
  }
 ],
 "metadata": {
  "kernelspec": {
   "display_name": "Python 2",
   "language": "python",
   "name": "python2"
  },
  "language_info": {
   "codemirror_mode": {
    "name": "ipython",
    "version": 2
   },
   "file_extension": ".py",
   "mimetype": "text/x-python",
   "name": "python",
   "nbconvert_exporter": "python",
   "pygments_lexer": "ipython2",
   "version": "2.7.11"
  }
 },
 "nbformat": 4,
 "nbformat_minor": 0
}
